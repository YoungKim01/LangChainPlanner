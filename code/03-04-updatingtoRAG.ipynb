{
 "cells": [
  {
   "cell_type": "markdown",
   "metadata": {},
   "source": [
    "https://github.com/langchain-ai/langgraph/blob/main/examples/rewoo/rewoo.ipynb?ref=blog.langchain.dev"
   ]
  },
  {
   "cell_type": "code",
   "execution_count": 1,
   "metadata": {},
   "outputs": [],
   "source": [
    "import os\n",
    "from dotenv import load_dotenv\n",
    "load_dotenv()\n",
    "azure_openai_endpoint = os.environ[\"AZURE_OPENAI_ENDPOINT\"]\n",
    "azure_openai_key = os.environ[\"AZURE_OPENAI_KEY\"]\n",
    "search_endpoint = os.environ[\"AZURE_SEARCH_SERVICE_ENDPOINT\"]\n",
    "search_key = os.environ[\"AZURE_SEARCH_ADMIN_KEY\"]"
   ]
  },
  {
   "cell_type": "code",
   "execution_count": 2,
   "metadata": {},
   "outputs": [],
   "source": [
    "from langchain_openai import AzureOpenAIEmbeddings, AzureChatOpenAI\n",
    "\n",
    "from langchain.vectorstores.azuresearch import AzureSearch\n",
    "from langchain_community.document_loaders import DirectoryLoader\n",
    "from langchain.text_splitter import RecursiveCharacterTextSplitter\n",
    "from langchain import hub\n",
    "from langchain_core.output_parsers import StrOutputParser\n",
    "from langchain_core.runnables import RunnablePassthrough\n",
    "from langchain_core.prompts import ChatPromptTemplate\n",
    "from langchain.prompts import (\n",
    "    ChatPromptTemplate,\n",
    "    HumanMessagePromptTemplate,\n",
    "    MessagesPlaceholder,\n",
    "    PromptTemplate,\n",
    ")\n",
    "\n",
    "import re"
   ]
  },
  {
   "cell_type": "markdown",
   "metadata": {},
   "source": [
    "## [00] define a state dict to contain - task, plan, steps, and other variables."
   ]
  },
  {
   "cell_type": "code",
   "execution_count": 3,
   "metadata": {},
   "outputs": [],
   "source": [
    "from typing import TypedDict, List\n",
    "\n",
    "\n",
    "class ReWOO(TypedDict):\n",
    "    task: str\n",
    "    plan_string: str\n",
    "    steps: List\n",
    "    results: dict\n",
    "    result: str"
   ]
  },
  {
   "cell_type": "markdown",
   "metadata": {},
   "source": [
    "## [0] Embedding/vectorisation"
   ]
  },
  {
   "cell_type": "code",
   "execution_count": 4,
   "metadata": {},
   "outputs": [],
   "source": [
    "# For RAG\n",
    "\n",
    "embeddings: AzureOpenAIEmbeddings = AzureOpenAIEmbeddings(\n",
    "    azure_deployment=\"text-embedding-ada-002\",\n",
    "    api_key=azure_openai_key,\n",
    "    azure_endpoint=azure_openai_endpoint,\n",
    "    api_version=\"2023-09-01-preview\",\n",
    "    chunk_size=1 \n",
    ")\n",
    "vector_store: AzureSearch = AzureSearch(\n",
    "    azure_search_endpoint=search_endpoint,\n",
    "    azure_search_key=search_key,\n",
    "    index_name=\"boardai03\",\n",
    "    embedding_function=embeddings.embed_query,\n",
    ")\n",
    "\n",
    "retriever = vector_store.as_retriever(search_key=\"hybrid\", search_kwargs={\"k\": 2})\n",
    "\n",
    "prompt = hub.pull(\"rlm/rag-prompt\")\n",
    "\n",
    "def format_docs(docs):\n",
    "    return \"\\n\\n\".join(doc.page_content for doc in docs)"
   ]
  },
  {
   "cell_type": "markdown",
   "metadata": {},
   "source": [
    "[llm]"
   ]
  },
  {
   "cell_type": "code",
   "execution_count": 5,
   "metadata": {},
   "outputs": [],
   "source": [
    "llm = AzureChatOpenAI(\n",
    "    deployment_name=\"gpt-4\",\n",
    "    api_key=azure_openai_key,\n",
    "    azure_endpoint=azure_openai_endpoint,\n",
    "    api_version=\"2023-09-01-preview\",    \n",
    ")"
   ]
  },
  {
   "cell_type": "code",
   "execution_count": null,
   "metadata": {},
   "outputs": [],
   "source": []
  },
  {
   "cell_type": "markdown",
   "metadata": {},
   "source": [
    "## [1] Planner\n",
    "https://github.com/langchain-ai/langgraph/blob/main/examples/rewoo/rewoo.ipynb?ref=blog.langchain.dev"
   ]
  },
  {
   "cell_type": "code",
   "execution_count": 6,
   "metadata": {},
   "outputs": [],
   "source": [
    "prompt = \"\"\"For the following task, make plans that can solve the problem step by step. For each plan, indicate \\\n",
    "which external tool together with tool input to retrieve evidence. You can store the evidence into a \\\n",
    "variable #E that can be called by later tools. (Plan, #E1, Plan, #E2, Plan, ...)\n",
    "\n",
    "Tools can be one of the following:\n",
    "\n",
    "(1) RAG_LLM[input]: A pretrained RAG+LLM like yourself. Useful when you need to act with general\n",
    "world knowledge and common sense + specific knowledge and data especially for Board and secretary role. Prioritize it when you are confident in solving the problem\n",
    "yourself. Input can be any instruction.\n",
    "\n",
    "(2) EMAIL[input]: Worker that send emails to board members to ask write board paper, check status of the return of those email and chase. \n",
    "Input will be a list of board members and agendas.\n",
    "\n",
    "(3) COMPILE[input]:Worker that add all the separate paper into one board paper. input will be multiple board paper pieces from board members.\n",
    "\n",
    "(4) CIRCULATE[input]: Worker that send compiled board paper to board members and get feed back and fix. Input will be a board paper. \n",
    "\n",
    "(5) PEOPLE_DB[input]: Worker that gives you a list of relevant people's name, email based on their role, team. Input will be role or team name.\n",
    "\n",
    "For example,\n",
    "Task: execute this: To create a board paper, first, based on an approved agenda, the secretary sends an email to the NEC (or board members). The NEC then writes the paper. \n",
    "After the paper is written, the secretary compile, circulates and distributes the paper to the board members.\n",
    "\n",
    "\n",
    "Plan: Find out what is approved agenda. #E1 = RAG+LLM[what is approved agenda]\n",
    "\n",
    "Plan: Find out who are the NEC or board members. #E2 = PEOPLE_DB[who are the NEC or board members]\n",
    "\n",
    "Plan: the secretary sends an email to the NEC (or board members).The NEC writes the paper. #E3 = sendEmail_chase_gatherPaper[#E2]\n",
    "\n",
    "Plan: compilePaper #E4 = compilePaper[#E3] \n",
    "\n",
    "Plan: After the paper is written, the secretary circulates and distributes the paper to the board members. #E5 = circulatePaper[#E4]\n",
    "\n",
    "\n",
    "Begin! \n",
    "Describe your plans with rich details. Each Plan should be followed by only one #E.\n",
    "\n",
    "\n",
    "\\nTask: {task}\n",
    "\\nContext: {context}\n",
    "\n",
    "\n",
    "\\nAnswer:\"\"\" \n"
   ]
  },
  {
   "cell_type": "markdown",
   "metadata": {},
   "source": [
    "PRB HERE\n",
    "\\nQuestion: {question}\n",
    "\\nContext: {context}"
   ]
  },
  {
   "cell_type": "code",
   "execution_count": 7,
   "metadata": {},
   "outputs": [],
   "source": [
    "# rag_prompt = hub.pull(\"rlm/rag-prompt\")\n",
    "# rag_prompt"
   ]
  },
  {
   "cell_type": "code",
   "execution_count": 8,
   "metadata": {},
   "outputs": [],
   "source": [
    "# simply Converting prompt into p_prompt: ChatPromptTemplate as langchain receives in that form\n",
    "\n",
    "# p_prompt = ChatPromptTemplate(input_variables=['context', 'question'], \n",
    "#                             metadata={'lc_hub_owner': 'rlm', 'lc_hub_repo': 'rag-prompt', 'lc_hub_commit_hash': '50442af133e61576e74536c6556cefe1fac147cad032f4377b60c436e6cdcb6e'}, \n",
    "#                             messages=[HumanMessagePromptTemplate(prompt=PromptTemplate(input_variables=['context', 'question'], template=prompt))])\n",
    "\n",
    "\n",
    "# same result as code above\n",
    "p_prompt = ChatPromptTemplate.from_messages([(\"user\", prompt)])"
   ]
  },
  {
   "cell_type": "markdown",
   "metadata": {},
   "source": [
    "Instead of model(llm+rag), test llm only"
   ]
  },
  {
   "cell_type": "code",
   "execution_count": 9,
   "metadata": {},
   "outputs": [],
   "source": [
    "# # Use LLM + RAG\n",
    "\n",
    "# model = (\n",
    "# {\"context\": retriever | format_docs, \"task\": RunnablePassthrough()}\n",
    "# | p_prompt\n",
    "# | llm\n",
    "# | StrOutputParser()\n",
    "# )\n",
    "\n",
    "# query = \"how do I create a board paper?\"\n",
    "# res = model.invoke(query)\n",
    "# print(res)\n",
    "# type(res) #str"
   ]
  },
  {
   "cell_type": "code",
   "execution_count": 10,
   "metadata": {},
   "outputs": [],
   "source": [
    "## TESTING LLM\n",
    "# task = \"how do I create a board paper?\"\n",
    "# res = llm.invoke(task)\n",
    "# print(res)\n",
    "# type(res) #langchain_core.messages.ai.AIMessage\n",
    "\n"
   ]
  },
  {
   "cell_type": "code",
   "execution_count": 11,
   "metadata": {},
   "outputs": [],
   "source": [
    "task = \"how do I create a board paper?\""
   ]
  },
  {
   "cell_type": "code",
   "execution_count": 12,
   "metadata": {},
   "outputs": [],
   "source": [
    "model = llm"
   ]
  },
  {
   "cell_type": "markdown",
   "metadata": {},
   "source": [
    "Planner Node\n",
    "\n",
    "To connect the planner to our graph,\n",
    "we will create a \"get_plan\" node \n",
    "- accepts the ReWOO state and \n",
    "- returns with a state update for the steps and plan_string fields.\n",
    "\n",
    "### get_plan - call this from langgraph later "
   ]
  },
  {
   "cell_type": "markdown",
   "metadata": {},
   "source": [
    "PRB HERE\n",
    "\n"
   ]
  },
  {
   "cell_type": "code",
   "execution_count": 13,
   "metadata": {},
   "outputs": [],
   "source": [
    "# model = (\n",
    "# {\"context\": retriever | format_docs, \"task\": RunnablePassthrough()}\n",
    "# | p_prompt\n",
    "# | llm\n",
    "# | StrOutputParser()\n",
    "# )"
   ]
  },
  {
   "cell_type": "code",
   "execution_count": 14,
   "metadata": {},
   "outputs": [],
   "source": [
    "#og code\n",
    "\n",
    "# Regex to match expressions of the form  \"Plan: E#... = ...[...]\"\n",
    "regex_pattern = r\"Plan:\\s*(.+)\\s*(#E\\d+)\\s*=\\s*(\\w+)\\s*\\[([^\\]]+)\\]\" \n",
    "\n",
    "prompt_template = ChatPromptTemplate.from_messages([(\"user\", prompt)])\n",
    "planner = prompt_template | model\n",
    "\n",
    "\n",
    "def get_plan(state: ReWOO):\n",
    "\n",
    "    task = state[\"task\"]\n",
    "\n",
    "    result = planner.invoke({\"task\": task, \"context\": retriever, \"recursion_limit\":100}) #ask agent about the each task/plan again \n",
    "    \n",
    "    # Find all matches in the sample text    \n",
    "    matches = re.findall(regex_pattern, result.content) \n",
    "    # result.content = plan_string e.g. Plan: Find out what is approved agenda. #E1 = RAG+LLM[what is approved agenda]\n",
    "    # matches = a list =  [Step description, step name(#E1, #E2, ...), tool, input]\n",
    "\n",
    "    return {\"steps\": matches, \"plan_string\": result.content}\n"
   ]
  },
  {
   "cell_type": "code",
   "execution_count": 15,
   "metadata": {},
   "outputs": [],
   "source": [
    "# ## trial\n",
    "\n",
    "# # Regex to match expressions of the form  \"Plan: E#... = ...[...]\"\n",
    "# regex_pattern = r\"Plan:\\s*(.+)\\s*(#E\\d+)\\s*=\\s*(\\w+)\\s*\\[([^\\]]+)\\]\" \n",
    "\n",
    "# prompt_template = ChatPromptTemplate.from_messages([(\"user\", prompt)])\n",
    "# # planner = prompt_template | model\n",
    "\n",
    "\n",
    "# def get_plan(state: ReWOO):\n",
    "\n",
    "#     task = state[\"task\"]\n",
    "#     # context = \"empty for now\"\n",
    "\n",
    "\n",
    "#     planner = (prompt_template | model | {\"context\": retriever | format_docs, \"task\": RunnablePassthrough(), \"recursion_limit\":100})\n",
    "\n",
    "#     result = planner.invoke(task) #ask agent about the each task/plan again \n",
    "    \n",
    "#     # Find all matches in the sample text    \n",
    "#     matches = re.findall(regex_pattern, result.content) \n",
    "#     # result.content = plan_string e.g. Plan: Find out what is approved agenda. #E1 = RAG+LLM[what is approved agenda]\n",
    "#     # matches = a list =  [Step description, step name(#E1, #E2, ...), tool, input]\n",
    "\n",
    "#     return {\"steps\": matches, \"plan_string\": result.content}\n"
   ]
  },
  {
   "cell_type": "code",
   "execution_count": 16,
   "metadata": {},
   "outputs": [
    {
     "data": {
      "text/plain": [
       "ChatPromptTemplate(input_variables=['context', 'task'], messages=[HumanMessagePromptTemplate(prompt=PromptTemplate(input_variables=['context', 'task'], template=\"For the following task, make plans that can solve the problem step by step. For each plan, indicate which external tool together with tool input to retrieve evidence. You can store the evidence into a variable #E that can be called by later tools. (Plan, #E1, Plan, #E2, Plan, ...)\\n\\nTools can be one of the following:\\n\\n(1) RAG_LLM[input]: A pretrained RAG+LLM like yourself. Useful when you need to act with general\\nworld knowledge and common sense + specific knowledge and data especially for Board and secretary role. Prioritize it when you are confident in solving the problem\\nyourself. Input can be any instruction.\\n\\n(2) EMAIL[input]: Worker that send emails to board members to ask write board paper, check status of the return of those email and chase. \\nInput will be a list of board members and agendas.\\n\\n(3) COMPILE[input]:Worker that add all the separate paper into one board paper. input will be multiple board paper pieces from board members.\\n\\n(4) CIRCULATE[input]: Worker that send compiled board paper to board members and get feed back and fix. Input will be a board paper. \\n\\n(5) PEOPLE_DB[input]: Worker that gives you a list of relevant people's name, email based on their role, team. Input will be role or team name.\\n\\nFor example,\\nTask: execute this: To create a board paper, first, based on an approved agenda, the secretary sends an email to the NEC (or board members). The NEC then writes the paper. \\nAfter the paper is written, the secretary compile, circulates and distributes the paper to the board members.\\n\\n\\nPlan: Find out what is approved agenda. #E1 = RAG+LLM[what is approved agenda]\\n\\nPlan: Find out who are the NEC or board members. #E2 = PEOPLE_DB[who are the NEC or board members]\\n\\nPlan: the secretary sends an email to the NEC (or board members).The NEC writes the paper. #E3 = sendEmail_chase_gatherPaper[#E2]\\n\\nPlan: compilePaper #E4 = compilePaper[#E3] \\n\\nPlan: After the paper is written, the secretary circulates and distributes the paper to the board members. #E5 = circulatePaper[#E4]\\n\\n\\nBegin! \\nDescribe your plans with rich details. Each Plan should be followed by only one #E.\\n\\n\\n\\nTask: {task}\\n\\nContext: {context}\\n\\n\\n\\nAnswer:\"))])"
      ]
     },
     "execution_count": 16,
     "metadata": {},
     "output_type": "execute_result"
    }
   ],
   "source": [
    "prompt_template"
   ]
  },
  {
   "cell_type": "code",
   "execution_count": 17,
   "metadata": {},
   "outputs": [
    {
     "data": {
      "text/plain": [
       "ChatPromptTemplate(input_variables=['context', 'task'], messages=[HumanMessagePromptTemplate(prompt=PromptTemplate(input_variables=['context', 'task'], template=\"For the following task, make plans that can solve the problem step by step. For each plan, indicate which external tool together with tool input to retrieve evidence. You can store the evidence into a variable #E that can be called by later tools. (Plan, #E1, Plan, #E2, Plan, ...)\\n\\nTools can be one of the following:\\n\\n(1) RAG_LLM[input]: A pretrained RAG+LLM like yourself. Useful when you need to act with general\\nworld knowledge and common sense + specific knowledge and data especially for Board and secretary role. Prioritize it when you are confident in solving the problem\\nyourself. Input can be any instruction.\\n\\n(2) EMAIL[input]: Worker that send emails to board members to ask write board paper, check status of the return of those email and chase. \\nInput will be a list of board members and agendas.\\n\\n(3) COMPILE[input]:Worker that add all the separate paper into one board paper. input will be multiple board paper pieces from board members.\\n\\n(4) CIRCULATE[input]: Worker that send compiled board paper to board members and get feed back and fix. Input will be a board paper. \\n\\n(5) PEOPLE_DB[input]: Worker that gives you a list of relevant people's name, email based on their role, team. Input will be role or team name.\\n\\nFor example,\\nTask: execute this: To create a board paper, first, based on an approved agenda, the secretary sends an email to the NEC (or board members). The NEC then writes the paper. \\nAfter the paper is written, the secretary compile, circulates and distributes the paper to the board members.\\n\\n\\nPlan: Find out what is approved agenda. #E1 = RAG+LLM[what is approved agenda]\\n\\nPlan: Find out who are the NEC or board members. #E2 = PEOPLE_DB[who are the NEC or board members]\\n\\nPlan: the secretary sends an email to the NEC (or board members).The NEC writes the paper. #E3 = sendEmail_chase_gatherPaper[#E2]\\n\\nPlan: compilePaper #E4 = compilePaper[#E3] \\n\\nPlan: After the paper is written, the secretary circulates and distributes the paper to the board members. #E5 = circulatePaper[#E4]\\n\\n\\nBegin! \\nDescribe your plans with rich details. Each Plan should be followed by only one #E.\\n\\n\\n\\nTask: {task}\\n\\nContext: {context}\\n\\n\\n\\nAnswer:\"))])\n",
       "| AzureChatOpenAI(client=<openai.resources.chat.completions.Completions object at 0x00000263E8DBB9D0>, async_client=<openai.resources.chat.completions.AsyncCompletions object at 0x00000263E8AC3ED0>, openai_api_key=SecretStr('**********'), openai_proxy='', azure_endpoint='https://ai-lab-ai-studio-01-aiservices.openai.azure.com/', deployment_name='gpt-4', openai_api_version='2023-09-01-preview', openai_api_type='azure')"
      ]
     },
     "execution_count": 17,
     "metadata": {},
     "output_type": "execute_result"
    }
   ],
   "source": [
    "planner"
   ]
  },
  {
   "cell_type": "markdown",
   "metadata": {},
   "source": [
    "## [2] EXECUTOR"
   ]
  },
  {
   "cell_type": "markdown",
   "metadata": {},
   "source": [
    "Define the tool execution node"
   ]
  },
  {
   "cell_type": "code",
   "execution_count": 18,
   "metadata": {},
   "outputs": [
    {
     "data": {
      "text/plain": [
       "'Board Members:\\n\\nMike CEO\\n\\nmike@mycompany.com\\n\\nCEO\\n\\nOlivia Johnson\\n\\nolivia@mycompany.com\\n\\nCFO\\n\\n'"
      ]
     },
     "execution_count": 18,
     "metadata": {},
     "output_type": "execute_result"
    }
   ],
   "source": [
    "# load plugins & test\n",
    "\n",
    "from plugins.basic import BasicPlugins\n",
    "\n",
    "plugin_instance = BasicPlugins()\n",
    "\n",
    "result = plugin_instance.email_function()\n",
    "result = plugin_instance.compile_paper()\n",
    "result = plugin_instance.circulate_paper()\n",
    "result = plugin_instance.people_db()\n",
    "\n",
    "\n",
    "result"
   ]
  },
  {
   "cell_type": "code",
   "execution_count": 19,
   "metadata": {},
   "outputs": [],
   "source": [
    "def _get_current_task(state: ReWOO):\n",
    "    if state[\"results\"] is None:\n",
    "        return 1\n",
    "    if len(state[\"results\"]) == len(state[\"steps\"]):\n",
    "        return None\n",
    "    else:\n",
    "        return len(state[\"results\"]) + 1\n",
    "    \n",
    "\n",
    "# initialise plugins\n",
    "from plugins.basic import BasicPlugins\n",
    "plugin_instance = BasicPlugins()\n",
    "\n",
    "\n",
    "prompt = hub.pull(\"rlm/rag-prompt\")\n",
    "def format_docs(docs):\n",
    "    return \"\\n\\n\".join(doc.page_content for doc in docs)\n",
    "\n",
    "rag_chain = prompt | model\n",
    "\n",
    "def tool_execution(state: ReWOO):\n",
    "    \"\"\"Worker node that executes the tools of a given plan.\"\"\"\n",
    "    _step = _get_current_task(state)\n",
    "    _, step_name, tool, tool_input = state[\"steps\"][_step - 1] # state[\"steps\"] = List   \n",
    "    _results = state[\"results\"] or {}\n",
    "\n",
    "    for k, v in _results.items():\n",
    "        tool_input = tool_input.replace(k, v)\n",
    "    \n",
    "    print(\"[tool_execution] Print selected tool name: \", tool, \"/n\")\n",
    "\n",
    "    if tool == \"RAG_LLM\":\n",
    "\n",
    "        docs = retriever.get_relevant_documents(tool_input)\n",
    "\n",
    "        print(\"[tool_execution] tool input: \", tool_input, \"/n\")\n",
    "        print(\"[tool_execution] retriever res docs: \", docs, \"/n\")        \n",
    "\n",
    "\n",
    "        # result = model.invoke(tool_input) #e.g. tool_input = \"what is approved agenda\"\n",
    "        result = rag_chain.invoke({\"context\": retriever | format_docs, \"question\": task, \"recursion_limit\":100}) #### NOW TEST PASSING DOCS INSTEAD OF RAG_CHAIN\n",
    "        print(\"[tool_execution] rag output: \", result, \"/n\")\n",
    "    elif tool ==\"PEOPLE_DB\":\n",
    "        result = plugin_instance.people_db()\n",
    "    elif tool ==\"EMAIL\":\n",
    "        result = plugin_instance.email_function()\n",
    "    elif tool ==\"COMPILE\":\n",
    "        result = plugin_instance.compile_paper()\n",
    "    elif tool ==\"CIRCULATE\":\n",
    "        result = plugin_instance.circulate_paper()\n",
    "    else:\n",
    "        raise ValueError\n",
    "    _results[step_name] = str(result)\n",
    "    return {\"results\": _results}"
   ]
  },
  {
   "cell_type": "markdown",
   "metadata": {},
   "source": [
    "## [3] Solver \n",
    "\n",
    "The solver receives the full plan and generates the final response based on the responses of the tool calls from the worker.\n",
    "\n",
    "Solver has its own prompt."
   ]
  },
  {
   "cell_type": "code",
   "execution_count": 20,
   "metadata": {},
   "outputs": [],
   "source": [
    "solve_prompt = \"\"\"Solve the following task or problem. To solve the problem, we have made step-by-step Plan and \\\n",
    "retrieved corresponding Evidence to each Plan. Use them with caution since long evidence might \\\n",
    "contain irrelevant information.\n",
    "\n",
    "{plan}\n",
    "\n",
    "Now solve the question or task according to provided Evidence above. Respond with the answer\n",
    "directly with no extra words.\n",
    "\n",
    "Task: {task}\n",
    "Response:\"\"\"\n",
    "\n",
    "def solve(state: ReWOO):\n",
    "    plan = \"\"\n",
    "    for _plan, step_name, tool, tool_input in state[\"steps\"]:\n",
    "        _results = state[\"results\"] or {}\n",
    "        for k, v in _results.items():\n",
    "            tool_input = tool_input.replace(k, v)\n",
    "            step_name = step_name.replace(k, v)\n",
    "        plan += f\"Plan: {_plan}\\n{step_name} = {tool}[{tool_input}]\"\n",
    "    prompt = solve_prompt.format(plan=plan, task=state[\"task\"])\n",
    "    result = model.invoke(prompt)                                      # should I use LLM or RAG + LLM ???? Try just LLM first, will be faster\n",
    "    return {\"result\": result.content}"
   ]
  },
  {
   "cell_type": "markdown",
   "metadata": {},
   "source": [
    "## [4] Define Graph\n",
    "\n",
    "Our graph defines the workflow. \n",
    "\n",
    "Each of the planner, worker(tool executor), and solver modules are added as nodes."
   ]
  },
  {
   "cell_type": "code",
   "execution_count": 21,
   "metadata": {},
   "outputs": [],
   "source": [
    "def _route(state):\n",
    "    _step = _get_current_task(state)\n",
    "    if _step is None:\n",
    "        # We have executed all tasks\n",
    "        return \"solve\"\n",
    "    else:\n",
    "        # We are still executing tasks, loop back to the \"tool\" node\n",
    "        return \"tool\""
   ]
  },
  {
   "cell_type": "code",
   "execution_count": 22,
   "metadata": {},
   "outputs": [],
   "source": [
    "from langgraph.graph import StateGraph, END\n",
    "\n",
    "graph = StateGraph(ReWOO)\n",
    "graph.add_node(\"plan\", get_plan)\n",
    "graph.add_node(\"tool\", tool_execution)\n",
    "graph.add_node(\"solve\", solve)\n",
    "graph.add_edge(\"plan\", \"tool\")\n",
    "graph.add_edge(\"solve\", END)\n",
    "graph.add_conditional_edges(\"tool\", _route)\n",
    "graph.set_entry_point(\"plan\")\n",
    "\n",
    "app = graph.compile()"
   ]
  },
  {
   "cell_type": "code",
   "execution_count": 23,
   "metadata": {},
   "outputs": [
    {
     "data": {
      "text/plain": [
       "'how do I create a board paper?'"
      ]
     },
     "execution_count": 23,
     "metadata": {},
     "output_type": "execute_result"
    }
   ],
   "source": [
    "task"
   ]
  },
  {
   "cell_type": "code",
   "execution_count": 24,
   "metadata": {},
   "outputs": [
    {
     "name": "stdout",
     "output_type": "stream",
     "text": [
      "{'plan': {'steps': [('Understand the process of creating a board paper. ', '#E1', 'RAG_LLM', 'What is the process of creating a board paper?'), ('Identify the people who hold the roles necessary for the creation of a board paper, such as the secretary and board members. ', '#E2', 'PEOPLE_DB', 'Secretary, Board Members'), ('Initiate the process by having the secretary send an email to the board members, requesting them to write their sections of the board paper. ', '#E3', 'EMAIL', '#E2'), ('Once all sections are written and returned, compile the pieces into a single board paper. ', '#E4', 'COMPILE', '#E3'), ('The secretary then circulates the compiled board paper among the board members for review and feedback. ', '#E5', 'CIRCULATE', '#E4'), ('If necessary, make any corrections or changes based on the feedback received. This could involve going back to the email and compilation steps. ', '#E6', 'RAG_LLM', 'What changes need to be made to the board paper based on feedback?'), ('Once all changes are made and the board paper is finalized, distribute the paper to the board members. ', '#E7', 'CIRCULATE', '#E6')], 'plan_string': 'Plan: Understand the process of creating a board paper. #E1 = RAG_LLM[What is the process of creating a board paper?]\\n\\nPlan: Identify the people who hold the roles necessary for the creation of a board paper, such as the secretary and board members. #E2 = PEOPLE_DB[Secretary, Board Members]\\n\\nPlan: Initiate the process by having the secretary send an email to the board members, requesting them to write their sections of the board paper. #E3 = EMAIL[#E2]\\n\\nPlan: Once all sections are written and returned, compile the pieces into a single board paper. #E4 = COMPILE[#E3]\\n\\nPlan: The secretary then circulates the compiled board paper among the board members for review and feedback. #E5 = CIRCULATE[#E4]\\n\\nPlan: If necessary, make any corrections or changes based on the feedback received. This could involve going back to the email and compilation steps. #E6 = RAG_LLM[What changes need to be made to the board paper based on feedback?]\\n\\nPlan: Once all changes are made and the board paper is finalized, distribute the paper to the board members. #E7 = CIRCULATE[#E6]'}}\n",
      "---\n",
      "[tool_execution] Print selected tool name:  RAG_LLM /n\n",
      "[tool_execution] retriever res docs:  [Document(page_content=\"How to create and circulate board paper\\n\\n1) Based on the approved agenda, Secretary emails NEC. (assume NEC is same as board members for now). If you don't have it, ask. Normally fixed ones are: performance, operation, profit\\n\\n2) NEC writes paper.\\n\\n3) Secretary circulates and distributes the paper to board members.\", metadata={'source': '..\\\\data\\\\documents_board\\\\Template.txt'}), Document(page_content=\"How to create and circulate board paper\\n\\n1) Based on the approved agenda(Usually approved agendas are performance, operation, profit + anything we want to add this time. ), Secretary emails NEC. (assume NEC is same as board members for now). If you don't have it, ask. Normally fixed ones are: performance, operation, profit\\n\\n2) NEC writes paper.\\n\\n3) Secretary circulates and distributes the paper to board members.\", metadata={'source': '..\\\\data\\\\documents_board\\\\Template.txt'})] /n\n",
      "[tool_execution] tool input:  What is the process of creating a board paper? /n\n",
      "[tool_execution] rag output:  content='The provided context does not contain information on how to create a board paper.' response_metadata={'finish_reason': 'stop', 'logprobs': None, 'content_filter_results': {'hate': {'filtered': False, 'severity': 'safe'}, 'self_harm': {'filtered': False, 'severity': 'safe'}, 'sexual': {'filtered': False, 'severity': 'safe'}, 'violence': {'filtered': False, 'severity': 'safe'}}} /n\n",
      "{'tool': {'results': {'#E1': \"content='The provided context does not contain information on how to create a board paper.' response_metadata={'finish_reason': 'stop', 'logprobs': None, 'content_filter_results': {'hate': {'filtered': False, 'severity': 'safe'}, 'self_harm': {'filtered': False, 'severity': 'safe'}, 'sexual': {'filtered': False, 'severity': 'safe'}, 'violence': {'filtered': False, 'severity': 'safe'}}}\"}}}\n",
      "---\n",
      "[tool_execution] Print selected tool name:  PEOPLE_DB /n\n",
      "{'tool': {'results': {'#E1': \"content='The provided context does not contain information on how to create a board paper.' response_metadata={'finish_reason': 'stop', 'logprobs': None, 'content_filter_results': {'hate': {'filtered': False, 'severity': 'safe'}, 'self_harm': {'filtered': False, 'severity': 'safe'}, 'sexual': {'filtered': False, 'severity': 'safe'}, 'violence': {'filtered': False, 'severity': 'safe'}}}\", '#E2': 'Board Members:\\n\\nMike CEO\\n\\nmike@mycompany.com\\n\\nCEO\\n\\nOlivia Johnson\\n\\nolivia@mycompany.com\\n\\nCFO\\n\\n'}}}\n",
      "---\n",
      "[tool_execution] Print selected tool name:  EMAIL /n\n",
      "{'tool': {'results': {'#E1': \"content='The provided context does not contain information on how to create a board paper.' response_metadata={'finish_reason': 'stop', 'logprobs': None, 'content_filter_results': {'hate': {'filtered': False, 'severity': 'safe'}, 'self_harm': {'filtered': False, 'severity': 'safe'}, 'sexual': {'filtered': False, 'severity': 'safe'}, 'violence': {'filtered': False, 'severity': 'safe'}}}\", '#E2': 'Board Members:\\n\\nMike CEO\\n\\nmike@mycompany.com\\n\\nCEO\\n\\nOlivia Johnson\\n\\nolivia@mycompany.com\\n\\nCFO\\n\\n', '#E3': 'email sent'}}}\n",
      "---\n",
      "[tool_execution] Print selected tool name:  COMPILE /n\n",
      "{'tool': {'results': {'#E1': \"content='The provided context does not contain information on how to create a board paper.' response_metadata={'finish_reason': 'stop', 'logprobs': None, 'content_filter_results': {'hate': {'filtered': False, 'severity': 'safe'}, 'self_harm': {'filtered': False, 'severity': 'safe'}, 'sexual': {'filtered': False, 'severity': 'safe'}, 'violence': {'filtered': False, 'severity': 'safe'}}}\", '#E2': 'Board Members:\\n\\nMike CEO\\n\\nmike@mycompany.com\\n\\nCEO\\n\\nOlivia Johnson\\n\\nolivia@mycompany.com\\n\\nCFO\\n\\n', '#E3': 'email sent', '#E4': 'compile paper'}}}\n",
      "---\n",
      "[tool_execution] Print selected tool name:  CIRCULATE /n\n",
      "{'tool': {'results': {'#E1': \"content='The provided context does not contain information on how to create a board paper.' response_metadata={'finish_reason': 'stop', 'logprobs': None, 'content_filter_results': {'hate': {'filtered': False, 'severity': 'safe'}, 'self_harm': {'filtered': False, 'severity': 'safe'}, 'sexual': {'filtered': False, 'severity': 'safe'}, 'violence': {'filtered': False, 'severity': 'safe'}}}\", '#E2': 'Board Members:\\n\\nMike CEO\\n\\nmike@mycompany.com\\n\\nCEO\\n\\nOlivia Johnson\\n\\nolivia@mycompany.com\\n\\nCFO\\n\\n', '#E3': 'email sent', '#E4': 'compile paper', '#E5': 'circulate paper'}}}\n",
      "---\n",
      "[tool_execution] Print selected tool name:  RAG_LLM /n\n",
      "[tool_execution] retriever res docs:  [Document(page_content=\"How to create and circulate board paper\\n\\n1) Based on the approved agenda(Usually approved agendas are performance, operation, profit + anything we want to add this time. ), Secretary emails NEC. (assume NEC is same as board members for now). If you don't have it, ask. Normally fixed ones are: performance, operation, profit\\n\\n2) NEC writes paper.\\n\\n3) Secretary circulates and distributes the paper to board members.\", metadata={'source': '..\\\\data\\\\documents_board\\\\Template.txt'}), Document(page_content=\"How to create and circulate board paper\\n\\n1) Based on the approved agenda(Usually approved agendas are performance, operation, profit + anything we want to add this time. ), Secretary emails NEC. (assume NEC is same as board members for now). If you don't have it, ask. Normally fixed ones are: performance, operation, profit\\n\\n2) NEC writes paper.\\n\\n3) Secretary circulates and distributes the paper to board members.\", metadata={'source': '..\\\\data\\\\documents_board\\\\Template.txt'})] /n\n",
      "[tool_execution] tool input:  What changes need to be made to the board paper based on feedback? /n\n",
      "[tool_execution] rag output:  content='The context provided does not contain information on how to create a board paper.' response_metadata={'finish_reason': 'stop', 'logprobs': None, 'content_filter_results': {'hate': {'filtered': False, 'severity': 'safe'}, 'self_harm': {'filtered': False, 'severity': 'safe'}, 'sexual': {'filtered': False, 'severity': 'safe'}, 'violence': {'filtered': False, 'severity': 'safe'}}} /n\n",
      "{'tool': {'results': {'#E1': \"content='The provided context does not contain information on how to create a board paper.' response_metadata={'finish_reason': 'stop', 'logprobs': None, 'content_filter_results': {'hate': {'filtered': False, 'severity': 'safe'}, 'self_harm': {'filtered': False, 'severity': 'safe'}, 'sexual': {'filtered': False, 'severity': 'safe'}, 'violence': {'filtered': False, 'severity': 'safe'}}}\", '#E2': 'Board Members:\\n\\nMike CEO\\n\\nmike@mycompany.com\\n\\nCEO\\n\\nOlivia Johnson\\n\\nolivia@mycompany.com\\n\\nCFO\\n\\n', '#E3': 'email sent', '#E4': 'compile paper', '#E5': 'circulate paper', '#E6': \"content='The context provided does not contain information on how to create a board paper.' response_metadata={'finish_reason': 'stop', 'logprobs': None, 'content_filter_results': {'hate': {'filtered': False, 'severity': 'safe'}, 'self_harm': {'filtered': False, 'severity': 'safe'}, 'sexual': {'filtered': False, 'severity': 'safe'}, 'violence': {'filtered': False, 'severity': 'safe'}}}\"}}}\n",
      "---\n",
      "[tool_execution] Print selected tool name:  CIRCULATE /n\n",
      "{'tool': {'results': {'#E1': \"content='The provided context does not contain information on how to create a board paper.' response_metadata={'finish_reason': 'stop', 'logprobs': None, 'content_filter_results': {'hate': {'filtered': False, 'severity': 'safe'}, 'self_harm': {'filtered': False, 'severity': 'safe'}, 'sexual': {'filtered': False, 'severity': 'safe'}, 'violence': {'filtered': False, 'severity': 'safe'}}}\", '#E2': 'Board Members:\\n\\nMike CEO\\n\\nmike@mycompany.com\\n\\nCEO\\n\\nOlivia Johnson\\n\\nolivia@mycompany.com\\n\\nCFO\\n\\n', '#E3': 'email sent', '#E4': 'compile paper', '#E5': 'circulate paper', '#E6': \"content='The context provided does not contain information on how to create a board paper.' response_metadata={'finish_reason': 'stop', 'logprobs': None, 'content_filter_results': {'hate': {'filtered': False, 'severity': 'safe'}, 'self_harm': {'filtered': False, 'severity': 'safe'}, 'sexual': {'filtered': False, 'severity': 'safe'}, 'violence': {'filtered': False, 'severity': 'safe'}}}\", '#E7': 'circulate paper'}}}\n",
      "---\n",
      "{'solve': {'result': 'To create a board paper, first identify the people who hold the necessary roles for its creation, such as the secretary and board members. Initiate the process by having the secretary send an email to the board members, requesting them to write their sections of the board paper. Once all sections are written and returned, compile the pieces into a single board paper. The secretary then circulates the compiled board paper among the board members for review and feedback. If necessary, make any corrections or changes based on the feedback received. This could involve going back to the email and compilation steps. Once all changes are made and the board paper is finalized, distribute the paper to the board members.'}}\n",
      "---\n",
      "{'__end__': {'task': 'how do I create a board paper?', 'plan_string': 'Plan: Understand the process of creating a board paper. #E1 = RAG_LLM[What is the process of creating a board paper?]\\n\\nPlan: Identify the people who hold the roles necessary for the creation of a board paper, such as the secretary and board members. #E2 = PEOPLE_DB[Secretary, Board Members]\\n\\nPlan: Initiate the process by having the secretary send an email to the board members, requesting them to write their sections of the board paper. #E3 = EMAIL[#E2]\\n\\nPlan: Once all sections are written and returned, compile the pieces into a single board paper. #E4 = COMPILE[#E3]\\n\\nPlan: The secretary then circulates the compiled board paper among the board members for review and feedback. #E5 = CIRCULATE[#E4]\\n\\nPlan: If necessary, make any corrections or changes based on the feedback received. This could involve going back to the email and compilation steps. #E6 = RAG_LLM[What changes need to be made to the board paper based on feedback?]\\n\\nPlan: Once all changes are made and the board paper is finalized, distribute the paper to the board members. #E7 = CIRCULATE[#E6]', 'steps': [('Understand the process of creating a board paper. ', '#E1', 'RAG_LLM', 'What is the process of creating a board paper?'), ('Identify the people who hold the roles necessary for the creation of a board paper, such as the secretary and board members. ', '#E2', 'PEOPLE_DB', 'Secretary, Board Members'), ('Initiate the process by having the secretary send an email to the board members, requesting them to write their sections of the board paper. ', '#E3', 'EMAIL', '#E2'), ('Once all sections are written and returned, compile the pieces into a single board paper. ', '#E4', 'COMPILE', '#E3'), ('The secretary then circulates the compiled board paper among the board members for review and feedback. ', '#E5', 'CIRCULATE', '#E4'), ('If necessary, make any corrections or changes based on the feedback received. This could involve going back to the email and compilation steps. ', '#E6', 'RAG_LLM', 'What changes need to be made to the board paper based on feedback?'), ('Once all changes are made and the board paper is finalized, distribute the paper to the board members. ', '#E7', 'CIRCULATE', '#E6')], 'results': {'#E1': \"content='The provided context does not contain information on how to create a board paper.' response_metadata={'finish_reason': 'stop', 'logprobs': None, 'content_filter_results': {'hate': {'filtered': False, 'severity': 'safe'}, 'self_harm': {'filtered': False, 'severity': 'safe'}, 'sexual': {'filtered': False, 'severity': 'safe'}, 'violence': {'filtered': False, 'severity': 'safe'}}}\", '#E2': 'Board Members:\\n\\nMike CEO\\n\\nmike@mycompany.com\\n\\nCEO\\n\\nOlivia Johnson\\n\\nolivia@mycompany.com\\n\\nCFO\\n\\n', '#E3': 'email sent', '#E4': 'compile paper', '#E5': 'circulate paper', '#E6': \"content='The context provided does not contain information on how to create a board paper.' response_metadata={'finish_reason': 'stop', 'logprobs': None, 'content_filter_results': {'hate': {'filtered': False, 'severity': 'safe'}, 'self_harm': {'filtered': False, 'severity': 'safe'}, 'sexual': {'filtered': False, 'severity': 'safe'}, 'violence': {'filtered': False, 'severity': 'safe'}}}\", '#E7': 'circulate paper'}, 'result': 'To create a board paper, first identify the people who hold the necessary roles for its creation, such as the secretary and board members. Initiate the process by having the secretary send an email to the board members, requesting them to write their sections of the board paper. Once all sections are written and returned, compile the pieces into a single board paper. The secretary then circulates the compiled board paper among the board members for review and feedback. If necessary, make any corrections or changes based on the feedback received. This could involve going back to the email and compilation steps. Once all changes are made and the board paper is finalized, distribute the paper to the board members.'}}\n",
      "---\n"
     ]
    }
   ],
   "source": [
    "for s in app.stream({\"task\": task}):\n",
    "    print(s)\n",
    "    print(\"---\")\n"
   ]
  }
 ],
 "metadata": {
  "kernelspec": {
   "display_name": "Python 3",
   "language": "python",
   "name": "python3"
  },
  "language_info": {
   "codemirror_mode": {
    "name": "ipython",
    "version": 3
   },
   "file_extension": ".py",
   "mimetype": "text/x-python",
   "name": "python",
   "nbconvert_exporter": "python",
   "pygments_lexer": "ipython3",
   "version": "3.11.1"
  }
 },
 "nbformat": 4,
 "nbformat_minor": 2
}
