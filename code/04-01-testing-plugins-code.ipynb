{
 "cells": [
  {
   "cell_type": "markdown",
   "metadata": {},
   "source": [
    "## TODO\n",
    "\n",
    "TEST BASIC PLUGINS HERE >> MOVE TO .py"
   ]
  },
  {
   "cell_type": "code",
   "execution_count": 1,
   "metadata": {},
   "outputs": [],
   "source": [
    "import os\n",
    "from dotenv import load_dotenv\n",
    "load_dotenv()\n",
    "azure_openai_endpoint = os.environ[\"AZURE_OPENAI_ENDPOINT\"]\n",
    "azure_openai_key = os.environ[\"AZURE_OPENAI_KEY\"]\n",
    "search_endpoint = os.environ[\"AZURE_SEARCH_SERVICE_ENDPOINT\"]\n",
    "search_key = os.environ[\"AZURE_SEARCH_ADMIN_KEY\"]"
   ]
  },
  {
   "cell_type": "code",
   "execution_count": 20,
   "metadata": {},
   "outputs": [],
   "source": [
    "from langchain_openai import AzureOpenAIEmbeddings, AzureChatOpenAI\n",
    "\n",
    "from langchain.vectorstores.azuresearch import AzureSearch\n",
    "from langchain_community.document_loaders import DirectoryLoader\n",
    "from langchain.text_splitter import RecursiveCharacterTextSplitter\n",
    "from langchain import hub\n",
    "from langchain_core.output_parsers import StrOutputParser\n",
    "from langchain_core.runnables import RunnablePassthrough\n",
    "\n",
    "import textwrap\n",
    "\n",
    "from langchain_core.prompts import ChatPromptTemplate"
   ]
  },
  {
   "cell_type": "markdown",
   "metadata": {},
   "source": [
    "AzureSearch"
   ]
  },
  {
   "cell_type": "code",
   "execution_count": 16,
   "metadata": {},
   "outputs": [],
   "source": [
    "embeddings: AzureOpenAIEmbeddings = AzureOpenAIEmbeddings(\n",
    "    azure_deployment=\"text-embedding-ada-002\",\n",
    "    api_key=azure_openai_key,\n",
    "    azure_endpoint=azure_openai_endpoint,\n",
    "    api_version=\"2023-09-01-preview\",\n",
    "    chunk_size=1 \n",
    ")\n",
    "vector_store: AzureSearch = AzureSearch(\n",
    "    azure_search_endpoint=search_endpoint,\n",
    "    azure_search_key=search_key,\n",
    "    index_name=\"boardai03\",\n",
    "    embedding_function=embeddings.embed_query,\n",
    ")\n",
    "\n",
    "llm = AzureChatOpenAI(\n",
    "    deployment_name=\"gpt-4\",\n",
    "    api_key=azure_openai_key,\n",
    "    azure_endpoint=azure_openai_endpoint,\n",
    "    api_version=\"2023-09-01-preview\",\n",
    "    # temperature=0\n",
    ")\n",
    "\n"
   ]
  },
  {
   "cell_type": "code",
   "execution_count": 19,
   "metadata": {},
   "outputs": [
    {
     "name": "stdout",
     "output_type": "stream",
     "text": [
      "The creation of a board paper should involve the NEC, who write the paper, and the Secretary, who based on the approved agenda, emails the\n",
      "NEC and later circulates and distributes the paper to board members.\n"
     ]
    }
   ],
   "source": [
    "retriever = vector_store.as_retriever(search_key=\"hybrid\", search_kwargs={\"k\": 5})\n",
    "\n",
    "prompt = hub.pull(\"rlm/rag-prompt\")\n",
    "def format_docs(docs):\n",
    "    return \"\\n\\n\".join(doc.page_content for doc in docs)\n",
    "\n",
    "rag_chain = (\n",
    "{\"context\": retriever | format_docs, \"question\": RunnablePassthrough()}\n",
    "| prompt\n",
    "| llm\n",
    "| StrOutputParser()\n",
    ")\n",
    "\n",
    "query = \"Who should be involved in the creation of a board paper?\"\n",
    "res = rag_chain.invoke(query)\n",
    "\n",
    "print(\"\\n\".join(textwrap.wrap(res, width = 140)))"
   ]
  },
  {
   "cell_type": "markdown",
   "metadata": {},
   "source": [
    "### people_db plugin"
   ]
  },
  {
   "cell_type": "code",
   "execution_count": 30,
   "metadata": {},
   "outputs": [
    {
     "name": "stdout",
     "output_type": "stream",
     "text": [
      "The board members are:  - Mike CEO - mike@mycompany.com - CEO - Olivia Johnson - olivia@mycompany.com - CFO - Alex Rodriguez -\n",
      "alex@mycompany.com - COO\n"
     ]
    }
   ],
   "source": [
    "retriever = vector_store.as_retriever(search_key=\"hybrid\", search_kwargs={\"k\": 5})\n",
    "\n",
    "\n",
    "prompt = \"\"\"\n",
    "based on the given question's position or team, give a result all the names, emails of who’s in that position or in the team.\n",
    "\n",
    "Example:\n",
    "'Find out who are the board members and NEC'\n",
    "\n",
    "Board Members:\n",
    "-\tMike CEO - mike@mycompany.com - CEO\n",
    "-\tOlivia Johnson - olivia@mycompany.com - CFO\n",
    "-\tAlex Rodriguez - alex@mycompany.com - COO\n",
    "NEC:\n",
    "-\tEmily Smith - emily@mycompany.com - CTO\n",
    "-\tVictoria Chen - victoria@mycompany.com - CMO\n",
    "-\tMichael Turner - michael@mycompany.com - CIO\n",
    "\n",
    "\n",
    "\\nTask: {task}\n",
    "\\nContext: {context}\n",
    "\n",
    "\n",
    "\\nAnswer:\"\"\" \n",
    "\n",
    "prompt_template = ChatPromptTemplate.from_messages([(\"user\", prompt)])\n",
    "\n",
    "task = \"who are the board members?\"\n",
    "\n",
    "rag_chain = (\n",
    "{\"context\": retriever | format_docs, \"task\": RunnablePassthrough()}\n",
    "| prompt_template\n",
    "| llm\n",
    "| StrOutputParser()\n",
    ")\n",
    "\n",
    "res = rag_chain.invoke(task)\n",
    "\n",
    "print(\"\\n\".join(textwrap.wrap(res, width = 140)))"
   ]
  }
 ],
 "metadata": {
  "kernelspec": {
   "display_name": "Python 3",
   "language": "python",
   "name": "python3"
  },
  "language_info": {
   "codemirror_mode": {
    "name": "ipython",
    "version": 3
   },
   "file_extension": ".py",
   "mimetype": "text/x-python",
   "name": "python",
   "nbconvert_exporter": "python",
   "pygments_lexer": "ipython3",
   "version": "3.11.1"
  }
 },
 "nbformat": 4,
 "nbformat_minor": 2
}
