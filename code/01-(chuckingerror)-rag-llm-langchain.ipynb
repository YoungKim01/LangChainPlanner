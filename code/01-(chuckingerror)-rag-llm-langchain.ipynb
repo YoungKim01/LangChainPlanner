{
 "cells": [
  {
   "cell_type": "code",
   "execution_count": 47,
   "metadata": {},
   "outputs": [],
   "source": [
    "import os\n",
    "from dotenv import load_dotenv\n",
    "load_dotenv()\n",
    "azure_openai_endpoint = os.environ[\"AZURE_OPENAI_ENDPOINT\"]\n",
    "azure_openai_key = os.environ[\"AZURE_OPENAI_KEY\"]\n",
    "search_endpoint = os.environ[\"AZURE_SEARCH_SERVICE_ENDPOINT\"]\n",
    "search_key = os.environ[\"AZURE_SEARCH_ADMIN_KEY\"]"
   ]
  },
  {
   "cell_type": "code",
   "execution_count": 48,
   "metadata": {},
   "outputs": [],
   "source": [
    "from langchain_openai import AzureOpenAIEmbeddings, AzureChatOpenAI\n",
    "\n",
    "from langchain.vectorstores.azuresearch import AzureSearch\n",
    "from langchain_community.document_loaders import DirectoryLoader\n",
    "from langchain.text_splitter import RecursiveCharacterTextSplitter\n",
    "from langchain import hub\n",
    "from langchain_core.output_parsers import StrOutputParser\n",
    "from langchain_core.runnables import RunnablePassthrough"
   ]
  },
  {
   "cell_type": "markdown",
   "metadata": {},
   "source": [
    "## Setup your docs"
   ]
  },
  {
   "cell_type": "code",
   "execution_count": 49,
   "metadata": {},
   "outputs": [],
   "source": [
    "from langchain_community.document_loaders import TextLoader\n",
    "\n",
    "# loader = DirectoryLoader(r\"C:\\Users\\skim333\\OneDrive - KPMG\\Documents\\GitHub\\azure-search-vector-samples\\demo-python\\data\\documents_board\", glob=\"**/*.txt\")\n",
    "loader = DirectoryLoader(\"../data/documents_board\", glob=\"**/*.txt\")\n",
    "documents = loader.load()"
   ]
  },
  {
   "cell_type": "code",
   "execution_count": 50,
   "metadata": {},
   "outputs": [
    {
     "data": {
      "text/plain": [
       "[Document(page_content='Board Members:\\n\\nMike CEO\\n\\nmike@mycompany.com\\n\\nCEO\\n\\nOlivia Johnson\\n\\nolivia@mycompany.com\\n\\nCFO\\n\\nAlex Rodriguez\\n\\nalex@mycompany.com\\n\\nCOO\\n\\nExecutives:\\n\\nEmily Smith\\n\\nemily@mycompany.com\\n\\nCTO\\n\\nVictoria Chen\\n\\nvictoria@mycompany.com\\n\\nCMO\\n\\nMichael Turner\\n\\nmichael@mycompany.com\\n\\nCIO\\n\\nJessica Baker\\n\\njessica@mycompany.com\\n\\nVP of Sales\\n\\nEthan White\\n\\nethan@mycompany.com\\n\\nVP of Marketing\\n\\nRyan Walker\\n\\nryan@mycompany.com\\n\\nVP of Operations\\n\\nAmanda Reed\\n\\namanda@mycompany.com\\n\\nChief Legal Officer', metadata={'source': '..\\\\data\\\\documents_board\\\\BoardmemberList.txt'}),\n",
       " Document(page_content='Neclist', metadata={'source': '..\\\\data\\\\documents_board\\\\NECList.txt'}),\n",
       " Document(page_content=\"scenario\\n\\nask: how do I create a board paper agent: what are agnedas?\\n\\nask: *performance *operation *profit agent: eamiling NEC(Board members). List below List: ceo xyz, coo xyz, etc\\n\\n[need to fix this part as we need to wait/chase] ask: I got responses from NEC. Here's board paper content. *performance: [content xyz] *operation: [content xyz] *profit:  [content xyz] agent: compiled into a paper. do you want to fix anything? otherwise circulate to board members.\\n\\nask: fix xyz. agent: fixed version here. circulate to board members?\\n\\nask: yes\\n\\nagent: circulate\", metadata={'source': '..\\\\data\\\\documents_board\\\\scenario.txt'}),\n",
       " Document(page_content=\"How to create and circulate board paper\\n\\n1) Based on the approved agenda, Secretary emails NEC. (assume NEC is same as board members for now). If you don't have it, ask. Normally fixed ones are: performance, operation, profit\\n\\n2) NEC writes paper.\\n\\n3) Secretary circulates and distributes the paper to board members.\", metadata={'source': '..\\\\data\\\\documents_board\\\\Template.txt'})]"
      ]
     },
     "execution_count": 50,
     "metadata": {},
     "output_type": "execute_result"
    }
   ],
   "source": [
    "documents"
   ]
  },
  {
   "cell_type": "code",
   "execution_count": 69,
   "metadata": {},
   "outputs": [],
   "source": [
    "text_splitter = RecursiveCharacterTextSplitter(chunk_size=2000, chunk_overlap=500)\n",
    "nodes = text_splitter.split_documents(documents) #chucked docs"
   ]
  },
  {
   "cell_type": "code",
   "execution_count": 71,
   "metadata": {},
   "outputs": [
    {
     "data": {
      "text/plain": [
       "[Document(page_content='Board Members:\\n\\nMike CEO\\n\\nmike@mycompany.com\\n\\nCEO\\n\\nOlivia Johnson\\n\\nolivia@mycompany.com\\n\\nCFO\\n\\nAlex Rodriguez\\n\\nalex@mycompany.com\\n\\nCOO\\n\\nExecutives:\\n\\nEmily Smith\\n\\nemily@mycompany.com\\n\\nCTO\\n\\nVictoria Chen\\n\\nvictoria@mycompany.com\\n\\nCMO\\n\\nMichael Turner\\n\\nmichael@mycompany.com\\n\\nCIO\\n\\nJessica Baker\\n\\njessica@mycompany.com\\n\\nVP of Sales\\n\\nEthan White\\n\\nethan@mycompany.com\\n\\nVP of Marketing\\n\\nRyan Walker\\n\\nryan@mycompany.com\\n\\nVP of Operations\\n\\nAmanda Reed\\n\\namanda@mycompany.com\\n\\nChief Legal Officer', metadata={'source': '..\\\\data\\\\documents_board\\\\BoardmemberList.txt'}),\n",
       " Document(page_content='Neclist', metadata={'source': '..\\\\data\\\\documents_board\\\\NECList.txt'}),\n",
       " Document(page_content=\"scenario\\n\\nask: how do I create a board paper agent: what are agnedas?\\n\\nask: *performance *operation *profit agent: eamiling NEC(Board members). List below List: ceo xyz, coo xyz, etc\\n\\n[need to fix this part as we need to wait/chase] ask: I got responses from NEC. Here's board paper content. *performance: [content xyz] *operation: [content xyz] *profit:  [content xyz] agent: compiled into a paper. do you want to fix anything? otherwise circulate to board members.\\n\\nask: fix xyz. agent: fixed version here. circulate to board members?\\n\\nask: yes\\n\\nagent: circulate\", metadata={'source': '..\\\\data\\\\documents_board\\\\scenario.txt'}),\n",
       " Document(page_content=\"How to create and circulate board paper\\n\\n1) Based on the approved agenda, Secretary emails NEC. (assume NEC is same as board members for now). If you don't have it, ask. Normally fixed ones are: performance, operation, profit\\n\\n2) NEC writes paper.\\n\\n3) Secretary circulates and distributes the paper to board members.\", metadata={'source': '..\\\\data\\\\documents_board\\\\Template.txt'})]"
      ]
     },
     "execution_count": 71,
     "metadata": {},
     "output_type": "execute_result"
    }
   ],
   "source": [
    "nodes"
   ]
  },
  {
   "cell_type": "markdown",
   "metadata": {},
   "source": [
    "## Embedding/vectorisation"
   ]
  },
  {
   "cell_type": "code",
   "execution_count": 73,
   "metadata": {},
   "outputs": [
    {
     "name": "stdout",
     "output_type": "stream",
     "text": [
      "done\n"
     ]
    }
   ],
   "source": [
    "embeddings: AzureOpenAIEmbeddings = AzureOpenAIEmbeddings(\n",
    "    azure_deployment=\"text-embedding-ada-002\",\n",
    "    api_key=azure_openai_key,\n",
    "    azure_endpoint=azure_openai_endpoint,\n",
    "    api_version=\"2023-09-01-preview\",\n",
    "    chunk_size=1 \n",
    ")\n",
    "vector_store: AzureSearch = AzureSearch(\n",
    "    azure_search_endpoint=search_endpoint,\n",
    "    azure_search_key=search_key,\n",
    "    index_name=\"boardai-mar-17\",\n",
    "    embedding_function=embeddings.embed_query,\n",
    ")\n",
    "vector_store.add_documents(documents=nodes)\n",
    "print(\"done\")"
   ]
  },
  {
   "cell_type": "markdown",
   "metadata": {},
   "source": [
    "## Query(RAG search -> LLM -> Final answer)"
   ]
  },
  {
   "cell_type": "markdown",
   "metadata": {},
   "source": [
    "[rag]"
   ]
  },
  {
   "cell_type": "code",
   "execution_count": 75,
   "metadata": {},
   "outputs": [
    {
     "data": {
      "text/plain": [
       "[Document(page_content=\"How to create and circulate board paper\\n\\n1) Based on the approved agenda, Secretary emails NEC. (assume NEC is same as board members for now). If you don't have it, ask. Normally fixed ones are: performance, operation, profit\\n\\n2) NEC writes paper.\\n\\n3) Secretary circulates and distributes the paper to board members.\", metadata={'source': '..\\\\data\\\\documents_board\\\\Template.txt'}),\n",
       " Document(page_content=\"How to create and circulate board paper\\n\\n1) Based on the approved agenda, Secretary emails NEC. (assume NEC is same as board members for now). If you don't have it, ask. Normally fixed ones are: performance, operation, profit\\n\\n2) NEC writes paper.\\n\\n3) Secretary circulates and distributes the paper to board members.\", metadata={'source': '..\\\\data\\\\documents_board\\\\Template.txt'})]"
      ]
     },
     "execution_count": 75,
     "metadata": {},
     "output_type": "execute_result"
    }
   ],
   "source": [
    "query = \"how do I create a board paper\"\n",
    "docs = vector_store.similarity_search(\n",
    "    query=query,\n",
    "    k = 2,\n",
    "    search_type = \"hybrid\"\n",
    ")\n",
    "docs"
   ]
  },
  {
   "cell_type": "code",
   "execution_count": null,
   "metadata": {},
   "outputs": [],
   "source": []
  },
  {
   "cell_type": "markdown",
   "metadata": {},
   "source": [
    "[llm]"
   ]
  },
  {
   "cell_type": "code",
   "execution_count": 76,
   "metadata": {},
   "outputs": [],
   "source": [
    "llm = AzureChatOpenAI(\n",
    "    deployment_name=\"gpt-4\",\n",
    "    api_key=azure_openai_key,\n",
    "    azure_endpoint=azure_openai_endpoint,\n",
    "    api_version=\"2023-09-01-preview\"\n",
    ")"
   ]
  },
  {
   "cell_type": "code",
   "execution_count": 77,
   "metadata": {},
   "outputs": [],
   "source": [
    "#https://github.com/streamlit/example-app-langchain-rag/blob/main/rag_chain.py#L25\n",
    "\n",
    "retriever = vector_store.as_retriever(search_key=\"hybrid\", search_kwargs={\"k\": 2})\n",
    "\n",
    "\n",
    "prompt = hub.pull(\"rlm/rag-prompt\")\n",
    "\n",
    "def format_docs(docs):\n",
    "    return \"\\n\\n\".join(doc.page_content for doc in docs)\n",
    "\n",
    "\n",
    "rag_chain = (\n",
    "{\"context\": retriever | format_docs, \"question\": RunnablePassthrough()}\n",
    "| prompt\n",
    "| llm\n",
    "| StrOutputParser()\n",
    ")"
   ]
  },
  {
   "cell_type": "code",
   "execution_count": null,
   "metadata": {},
   "outputs": [],
   "source": []
  },
  {
   "cell_type": "code",
   "execution_count": 78,
   "metadata": {},
   "outputs": [
    {
     "data": {
      "text/plain": [
       "'To create a board paper, first, based on an approved agenda, the secretary sends an email to the NEC (or board members). The NEC then writes the paper. After the paper is written, the secretary circulates and distributes the paper to the board members.'"
      ]
     },
     "execution_count": 78,
     "metadata": {},
     "output_type": "execute_result"
    }
   ],
   "source": [
    "res = rag_chain.invoke(query)\n",
    "res"
   ]
  },
  {
   "cell_type": "code",
   "execution_count": 79,
   "metadata": {},
   "outputs": [
    {
     "name": "stdout",
     "output_type": "stream",
     "text": [
      "To create a board paper, first, based on an approved agenda, the secretary sends an email to the NEC (or board members). The NEC then writes\n",
      "the paper. After the paper is written, the secretary circulates and distributes the paper to the board members.\n"
     ]
    }
   ],
   "source": [
    "import textwrap\n",
    "print(\"\\n\".join(textwrap.wrap(res, width = 140)))"
   ]
  },
  {
   "cell_type": "code",
   "execution_count": null,
   "metadata": {},
   "outputs": [],
   "source": []
  },
  {
   "cell_type": "code",
   "execution_count": null,
   "metadata": {},
   "outputs": [],
   "source": []
  },
  {
   "cell_type": "markdown",
   "metadata": {},
   "source": [
    "We need \"chain of thought\" style agnet: https://blog.langchain.dev/planning-agents/"
   ]
  },
  {
   "cell_type": "markdown",
   "metadata": {},
   "source": [
    "**Graph State**: In LangGraph, every node updates a shared graph state. The state is the input to any node whenever it is invoked.\n",
    "\n",
    "Below, we will define a state dict to contain the task, plan, steps, and other variables."
   ]
  },
  {
   "cell_type": "code",
   "execution_count": null,
   "metadata": {},
   "outputs": [],
   "source": []
  }
 ],
 "metadata": {
  "kernelspec": {
   "display_name": "Python 3",
   "language": "python",
   "name": "python3"
  },
  "language_info": {
   "codemirror_mode": {
    "name": "ipython",
    "version": 3
   },
   "file_extension": ".py",
   "mimetype": "text/x-python",
   "name": "python",
   "nbconvert_exporter": "python",
   "pygments_lexer": "ipython3",
   "version": "3.11.1"
  }
 },
 "nbformat": 4,
 "nbformat_minor": 2
}
