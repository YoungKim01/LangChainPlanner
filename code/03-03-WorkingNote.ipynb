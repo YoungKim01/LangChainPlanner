{
 "cells": [
  {
   "cell_type": "markdown",
   "metadata": {},
   "source": [
    "https://github.com/langchain-ai/langgraph/blob/main/examples/rewoo/rewoo.ipynb?ref=blog.langchain.dev"
   ]
  },
  {
   "cell_type": "code",
   "execution_count": 1,
   "metadata": {},
   "outputs": [],
   "source": [
    "import os\n",
    "from dotenv import load_dotenv\n",
    "load_dotenv()\n",
    "azure_openai_endpoint = os.environ[\"AZURE_OPENAI_ENDPOINT\"]\n",
    "azure_openai_key = os.environ[\"AZURE_OPENAI_KEY\"]\n",
    "search_endpoint = os.environ[\"AZURE_SEARCH_SERVICE_ENDPOINT\"]\n",
    "search_key = os.environ[\"AZURE_SEARCH_ADMIN_KEY\"]"
   ]
  },
  {
   "cell_type": "code",
   "execution_count": 2,
   "metadata": {},
   "outputs": [],
   "source": [
    "from langchain_openai import AzureOpenAIEmbeddings, AzureChatOpenAI\n",
    "\n",
    "from langchain.vectorstores.azuresearch import AzureSearch\n",
    "from langchain_community.document_loaders import DirectoryLoader\n",
    "from langchain.text_splitter import RecursiveCharacterTextSplitter\n",
    "from langchain import hub\n",
    "from langchain_core.output_parsers import StrOutputParser\n",
    "from langchain_core.runnables import RunnablePassthrough\n",
    "from langchain_core.prompts import ChatPromptTemplate\n",
    "from langchain.prompts import (\n",
    "    ChatPromptTemplate,\n",
    "    HumanMessagePromptTemplate,\n",
    "    MessagesPlaceholder,\n",
    "    PromptTemplate,\n",
    ")\n",
    "\n",
    "import re"
   ]
  },
  {
   "cell_type": "markdown",
   "metadata": {},
   "source": [
    "## [00] define a state dict to contain - task, plan, steps, and other variables."
   ]
  },
  {
   "cell_type": "code",
   "execution_count": 3,
   "metadata": {},
   "outputs": [],
   "source": [
    "from typing import TypedDict, List\n",
    "\n",
    "\n",
    "class ReWOO(TypedDict):\n",
    "    task: str\n",
    "    plan_string: str\n",
    "    steps: List\n",
    "    results: dict\n",
    "    result: str"
   ]
  },
  {
   "cell_type": "markdown",
   "metadata": {},
   "source": [
    "## [0] Embedding/vectorisation"
   ]
  },
  {
   "cell_type": "code",
   "execution_count": 4,
   "metadata": {},
   "outputs": [],
   "source": [
    "# For RAG\n",
    "\n",
    "embeddings: AzureOpenAIEmbeddings = AzureOpenAIEmbeddings(\n",
    "    azure_deployment=\"text-embedding-ada-002\",\n",
    "    api_key=azure_openai_key,\n",
    "    azure_endpoint=azure_openai_endpoint,\n",
    "    api_version=\"2023-09-01-preview\",\n",
    "    chunk_size=1 \n",
    ")\n",
    "vector_store: AzureSearch = AzureSearch(\n",
    "    azure_search_endpoint=search_endpoint,\n",
    "    azure_search_key=search_key,\n",
    "    index_name=\"boardai03\",\n",
    "    embedding_function=embeddings.embed_query,\n",
    ")\n",
    "\n",
    "retriever = vector_store.as_retriever(search_key=\"hybrid\", search_kwargs={\"k\": 2})\n",
    "\n",
    "prompt = hub.pull(\"rlm/rag-prompt\")\n",
    "\n",
    "def format_docs(docs):\n",
    "    return \"\\n\\n\".join(doc.page_content for doc in docs)"
   ]
  },
  {
   "cell_type": "markdown",
   "metadata": {},
   "source": [
    "[llm]"
   ]
  },
  {
   "cell_type": "code",
   "execution_count": 5,
   "metadata": {},
   "outputs": [],
   "source": [
    "llm = AzureChatOpenAI(\n",
    "    deployment_name=\"gpt-4\",\n",
    "    api_key=azure_openai_key,\n",
    "    azure_endpoint=azure_openai_endpoint,\n",
    "    api_version=\"2023-09-01-preview\",    \n",
    ")"
   ]
  },
  {
   "cell_type": "code",
   "execution_count": null,
   "metadata": {},
   "outputs": [],
   "source": []
  },
  {
   "cell_type": "markdown",
   "metadata": {},
   "source": [
    "## [1] Planner\n",
    "https://github.com/langchain-ai/langgraph/blob/main/examples/rewoo/rewoo.ipynb?ref=blog.langchain.dev"
   ]
  },
  {
   "cell_type": "code",
   "execution_count": 37,
   "metadata": {},
   "outputs": [],
   "source": [
    "prompt = \"\"\"For the following task, make plans that can solve the problem step by step. For each plan, indicate \\\n",
    "which external tool together with tool input to retrieve evidence. You can store the evidence into a \\\n",
    "variable #E that can be called by later tools. (Plan, #E1, Plan, #E2, Plan, ...)\n",
    "\n",
    "Tools can be one of the following:\n",
    "\n",
    "(1) RAG_LLM[input]: A pretrained RAG+LLM like yourself. Useful when you need to act with general\n",
    "world knowledge and common sense + specific knowledge and data especially for Board and secretary role. Prioritize it when you are confident in solving the problem\n",
    "yourself. Input can be any instruction.\n",
    "\n",
    "(2) EMAIL[input]: Worker that send emails to board members to ask write board paper, check status of the return of those email and chase. \n",
    "Input will be a list of board members and agendas.\n",
    "\n",
    "(3) COMPILE[input]:Worker that add all the separate paper into one board paper. input will be multiple board paper pieces from board members.\n",
    "\n",
    "(4) CIRCULATE[input]: Worker that send compiled board paper to board members and get feed back and fix. Input will be a board paper. \n",
    "\n",
    "For example,\n",
    "Task: execute this: To create a board paper, first, based on an approved agenda, the secretary sends an email to the NEC (or board members). The NEC then writes the paper. \n",
    "After the paper is written, the secretary compile, circulates and distributes the paper to the board members.\n",
    "\n",
    "\n",
    "Plan: Find out what is approved agenda. #E1 = RAG+LLM[what is approved agenda]\n",
    "\n",
    "Plan: Find out who are the NEC or board members. #E2 = RAG+LLM[who are the NEC or board members]\n",
    "\n",
    "Plan: the secretary sends an email to the NEC (or board members).The NEC writes the paper. #E3 = sendEmail_chase_gatherPaper[#E2]\n",
    "\n",
    "Plan: compilePaper #E4 = compilePaper[#E3] \n",
    "\n",
    "Plan: After the paper is written, the secretary circulates and distributes the paper to the board members. #E5 = circulatePaper[#E4]\n",
    "\n",
    "\n",
    "Begin! \n",
    "Describe your plans with rich details. Each Plan should be followed by only one #E.\n",
    "\n",
    "\n",
    "\\nTask: {task}\n",
    "\\nContext: {context}\n",
    "\n",
    "\n",
    "\\nAnswer:\"\"\" \n"
   ]
  },
  {
   "cell_type": "markdown",
   "metadata": {},
   "source": [
    "PRB HERE\n",
    "\\nQuestion: {question}\n",
    "\\nContext: {context}"
   ]
  },
  {
   "cell_type": "code",
   "execution_count": 7,
   "metadata": {},
   "outputs": [],
   "source": [
    "# rag_prompt = hub.pull(\"rlm/rag-prompt\")\n",
    "# rag_prompt"
   ]
  },
  {
   "cell_type": "code",
   "execution_count": 38,
   "metadata": {},
   "outputs": [],
   "source": [
    "# simply Converting prompt into p_prompt: ChatPromptTemplate as langchain receives in that form\n",
    "\n",
    "# p_prompt = ChatPromptTemplate(input_variables=['context', 'question'], \n",
    "#                             metadata={'lc_hub_owner': 'rlm', 'lc_hub_repo': 'rag-prompt', 'lc_hub_commit_hash': '50442af133e61576e74536c6556cefe1fac147cad032f4377b60c436e6cdcb6e'}, \n",
    "#                             messages=[HumanMessagePromptTemplate(prompt=PromptTemplate(input_variables=['context', 'question'], template=prompt))])\n",
    "\n",
    "\n",
    "# same result as code above\n",
    "p_prompt = ChatPromptTemplate.from_messages([(\"user\", prompt)])"
   ]
  },
  {
   "cell_type": "markdown",
   "metadata": {},
   "source": [
    "Instead of model(llm+rag), test llm only"
   ]
  },
  {
   "cell_type": "code",
   "execution_count": 9,
   "metadata": {},
   "outputs": [],
   "source": [
    "# # Use LLM + RAG\n",
    "\n",
    "# model = (\n",
    "# {\"context\": retriever | format_docs, \"task\": RunnablePassthrough()}\n",
    "# | p_prompt\n",
    "# | llm\n",
    "# | StrOutputParser()\n",
    "# )\n",
    "\n",
    "# query = \"how do I create a board paper?\"\n",
    "# res = model.invoke(query)\n",
    "# print(res)\n",
    "# type(res) #str"
   ]
  },
  {
   "cell_type": "markdown",
   "metadata": {},
   "source": [
    "## PRB HERE"
   ]
  },
  {
   "cell_type": "code",
   "execution_count": 35,
   "metadata": {},
   "outputs": [
    {
     "name": "stdout",
     "output_type": "stream",
     "text": [
      "content='Creating a board paper involves several steps:\\n\\n1. Understand The Purpose: The first step is to understand the purpose of the board paper. Why is it required? Is it to inform board members about a particular issue? Or is it to seek approval for an initiative?\\n\\n2. Research: Once you understand the purpose, the next step is to gather all the necessary information. This may involve conducting research, talking to relevant staff members, or reviewing documents and reports.\\n\\n3. Structure the Paper: A typical board paper has a clear structure: \\n\\n   a. Title: It should be concise and clearly indicate the subject of the paper.\\n\\n   b. Executive Summary: This provides an overview of the issue at hand, the decision required, and a summary of the main points raised in the paper.\\n\\n   c. Background: This section provides relevant information and context about the issue.\\n\\n   d. Discussion: This is the main body of the paper where you present the details of the issue, the analysis, and any alternatives considered.\\n\\n   e. Conclusion and Recommendations: Here you summarize the main points and propose a course of action.\\n\\n   f. Attachments: Any supporting documents or data.\\n\\n4. Write the Paper: \\n\\n   a. Use clear and concise language.\\n\\n   b. Make sure the paper is free of jargon and acronyms, or explain them if necessary.\\n\\n   c. Use bullet points and headings to break up the text and make it easier to read.\\n\\n   d. Be objective and present all sides of the issue.\\n\\n   e. Include any risks or implications of the proposed action.\\n\\n5. Review and Proofread: Before submitting the paper, make sure to review it for clarity, coherence, and accuracy. Check for any grammatical or spelling errors. \\n\\n6. Approval and Submission: Once the paper is finalized, it may need to be approved by your boss or another authority before it can be submitted to the board. \\n\\nRemember, a board paper should be informative and persuasive, providing all the information needed for the board to make an informed decision.' response_metadata={'finish_reason': 'stop', 'logprobs': None, 'content_filter_results': {'hate': {'filtered': False, 'severity': 'safe'}, 'self_harm': {'filtered': False, 'severity': 'safe'}, 'sexual': {'filtered': False, 'severity': 'safe'}, 'violence': {'filtered': False, 'severity': 'safe'}}}\n"
     ]
    },
    {
     "data": {
      "text/plain": [
       "langchain_core.messages.ai.AIMessage"
      ]
     },
     "execution_count": 35,
     "metadata": {},
     "output_type": "execute_result"
    }
   ],
   "source": [
    "## TESTING LLM\n",
    "# task = \"how do I create a board paper?\"\n",
    "# res = llm.invoke(task)\n",
    "# print(res)\n",
    "# type(res) #langchain_core.messages.ai.AIMessage\n",
    "\n"
   ]
  },
  {
   "cell_type": "code",
   "execution_count": 31,
   "metadata": {},
   "outputs": [],
   "source": [
    "task = \"how do I create a board paper?\""
   ]
  },
  {
   "cell_type": "code",
   "execution_count": 32,
   "metadata": {},
   "outputs": [],
   "source": [
    "model = llm"
   ]
  },
  {
   "cell_type": "markdown",
   "metadata": {},
   "source": [
    "Planner Node\n",
    "\n",
    "To connect the planner to our graph,\n",
    "we will create a \"get_plan\" node \n",
    "- accepts the ReWOO state and \n",
    "- returns with a state update for the steps and plan_string fields.\n",
    "\n",
    "### get_plan - call this from langgraph later "
   ]
  },
  {
   "cell_type": "markdown",
   "metadata": {},
   "source": [
    "PRB HERE\n",
    "\n"
   ]
  },
  {
   "cell_type": "code",
   "execution_count": 42,
   "metadata": {},
   "outputs": [],
   "source": [
    "# Regex to match expressions of the form  \"Plan: E#... = ...[...]\"\n",
    "regex_pattern = r\"Plan:\\s*(.+)\\s*(#E\\d+)\\s*=\\s*(\\w+)\\s*\\[([^\\]]+)\\]\" \n",
    "\n",
    "prompt_template = ChatPromptTemplate.from_messages([(\"user\", prompt)])\n",
    "planner = prompt_template | model\n",
    "\n",
    "\n",
    "def get_plan(state: ReWOO):\n",
    "\n",
    "    task = state[\"task\"]\n",
    "    context = \"empty for now\"\n",
    "\n",
    "    result = planner.invoke({\"task\": task, \"context\": context}) #ask agent about the each task/plan again \n",
    "    \n",
    "    # Find all matches in the sample text    \n",
    "    matches = re.findall(regex_pattern, result.content) \n",
    "    # result.content = plan_string e.g. Plan: Find out what is approved agenda. #E1 = RAG+LLM[what is approved agenda]\n",
    "    # matches = a list =  [Step description, step name(#E1, #E2, ...), tool, input]\n",
    "\n",
    "    return {\"steps\": matches, \"plan_string\": result.content}\n"
   ]
  },
  {
   "cell_type": "code",
   "execution_count": 41,
   "metadata": {},
   "outputs": [
    {
     "data": {
      "text/plain": [
       "ChatPromptTemplate(input_variables=['context', 'task'], messages=[HumanMessagePromptTemplate(prompt=PromptTemplate(input_variables=['context', 'task'], template='For the following task, make plans that can solve the problem step by step. For each plan, indicate which external tool together with tool input to retrieve evidence. You can store the evidence into a variable #E that can be called by later tools. (Plan, #E1, Plan, #E2, Plan, ...)\\n\\nTools can be one of the following:\\n\\n(1) RAG_LLM[input]: A pretrained RAG+LLM like yourself. Useful when you need to act with general\\nworld knowledge and common sense + specific knowledge and data especially for Board and secretary role. Prioritize it when you are confident in solving the problem\\nyourself. Input can be any instruction.\\n\\n(2) EMAIL[input]: Worker that send emails to board members to ask write board paper, check status of the return of those email and chase. \\nInput will be a list of board members and agendas.\\n\\n(3) COMPILE[input]:Worker that add all the separate paper into one board paper. input will be multiple board paper pieces from board members.\\n\\n(4) CIRCULATE[input]: Worker that send compiled board paper to board members and get feed back and fix. Input will be a board paper. \\n\\nFor example,\\nTask: execute this: To create a board paper, first, based on an approved agenda, the secretary sends an email to the NEC (or board members). The NEC then writes the paper. \\nAfter the paper is written, the secretary compile, circulates and distributes the paper to the board members.\\n\\n\\nPlan: Find out what is approved agenda. #E1 = RAG+LLM[what is approved agenda]\\n\\nPlan: Find out who are the NEC or board members. #E2 = RAG+LLM[who are the NEC or board members]\\n\\nPlan: the secretary sends an email to the NEC (or board members).The NEC writes the paper. #E3 = sendEmail_chase_gatherPaper[#E2]\\n\\nPlan: compilePaper #E4 = compilePaper[#E3] \\n\\nPlan: After the paper is written, the secretary circulates and distributes the paper to the board members. #E5 = circulatePaper[#E4]\\n\\n\\nBegin! \\nDescribe your plans with rich details. Each Plan should be followed by only one #E.\\n\\n\\n\\nTask: {task}\\n\\nContext: {context}\\n\\n\\n\\nAnswer:'))])"
      ]
     },
     "execution_count": 41,
     "metadata": {},
     "output_type": "execute_result"
    }
   ],
   "source": [
    "prompt_template"
   ]
  },
  {
   "cell_type": "code",
   "execution_count": 40,
   "metadata": {},
   "outputs": [
    {
     "data": {
      "text/plain": [
       "ChatPromptTemplate(input_variables=['context', 'task'], messages=[HumanMessagePromptTemplate(prompt=PromptTemplate(input_variables=['context', 'task'], template='For the following task, make plans that can solve the problem step by step. For each plan, indicate which external tool together with tool input to retrieve evidence. You can store the evidence into a variable #E that can be called by later tools. (Plan, #E1, Plan, #E2, Plan, ...)\\n\\nTools can be one of the following:\\n\\n(1) RAG_LLM[input]: A pretrained RAG+LLM like yourself. Useful when you need to act with general\\nworld knowledge and common sense + specific knowledge and data especially for Board and secretary role. Prioritize it when you are confident in solving the problem\\nyourself. Input can be any instruction.\\n\\n(2) EMAIL[input]: Worker that send emails to board members to ask write board paper, check status of the return of those email and chase. \\nInput will be a list of board members and agendas.\\n\\n(3) COMPILE[input]:Worker that add all the separate paper into one board paper. input will be multiple board paper pieces from board members.\\n\\n(4) CIRCULATE[input]: Worker that send compiled board paper to board members and get feed back and fix. Input will be a board paper. \\n\\nFor example,\\nTask: execute this: To create a board paper, first, based on an approved agenda, the secretary sends an email to the NEC (or board members). The NEC then writes the paper. \\nAfter the paper is written, the secretary compile, circulates and distributes the paper to the board members.\\n\\n\\nPlan: Find out what is approved agenda. #E1 = RAG+LLM[what is approved agenda]\\n\\nPlan: Find out who are the NEC or board members. #E2 = RAG+LLM[who are the NEC or board members]\\n\\nPlan: the secretary sends an email to the NEC (or board members).The NEC writes the paper. #E3 = sendEmail_chase_gatherPaper[#E2]\\n\\nPlan: compilePaper #E4 = compilePaper[#E3] \\n\\nPlan: After the paper is written, the secretary circulates and distributes the paper to the board members. #E5 = circulatePaper[#E4]\\n\\n\\nBegin! \\nDescribe your plans with rich details. Each Plan should be followed by only one #E.\\n\\n\\n\\nTask: {task}\\n\\nContext: {context}\\n\\n\\n\\nAnswer:'))])\n",
       "| AzureChatOpenAI(client=<openai.resources.chat.completions.Completions object at 0x0000026B45241810>, async_client=<openai.resources.chat.completions.AsyncCompletions object at 0x0000026B45241F50>, openai_api_key=SecretStr('**********'), openai_proxy='', azure_endpoint='https://ai-lab-ai-studio-01-aiservices.openai.azure.com/', deployment_name='gpt-4', openai_api_version='2023-09-01-preview', openai_api_type='azure')"
      ]
     },
     "execution_count": 40,
     "metadata": {},
     "output_type": "execute_result"
    }
   ],
   "source": [
    "planner"
   ]
  },
  {
   "cell_type": "markdown",
   "metadata": {},
   "source": [
    "## [2] EXECUTOR"
   ]
  },
  {
   "cell_type": "markdown",
   "metadata": {},
   "source": [
    "Define the tool execution node"
   ]
  },
  {
   "cell_type": "code",
   "execution_count": 22,
   "metadata": {},
   "outputs": [
    {
     "data": {
      "text/plain": [
       "'circulate paper'"
      ]
     },
     "execution_count": 22,
     "metadata": {},
     "output_type": "execute_result"
    }
   ],
   "source": [
    "# load plugins & test\n",
    "\n",
    "from plugins.basic import BasicPlugins\n",
    "\n",
    "plugin_instance = BasicPlugins()\n",
    "\n",
    "result = plugin_instance.email_function()\n",
    "result = plugin_instance.compile_paper()\n",
    "result = plugin_instance.circulate_paper()\n",
    "\n",
    "\n",
    "result"
   ]
  },
  {
   "cell_type": "code",
   "execution_count": 43,
   "metadata": {},
   "outputs": [],
   "source": [
    "def _get_current_task(state: ReWOO):\n",
    "    if state[\"results\"] is None:\n",
    "        return 1\n",
    "    if len(state[\"results\"]) == len(state[\"steps\"]):\n",
    "        return None\n",
    "    else:\n",
    "        return len(state[\"results\"]) + 1\n",
    "    \n",
    "\n",
    "# initialise plugins\n",
    "from plugins.basic import BasicPlugins\n",
    "plugin_instance = BasicPlugins()\n",
    "\n",
    "\n",
    "# do i need to mention all the tools here? semantic kernel doesn't need this stage...hrmmmmm try langchain ver first for now\n",
    "    \n",
    "\n",
    "def tool_execution(state: ReWOO):\n",
    "    \"\"\"Worker node that executes the tools of a given plan.\"\"\"\n",
    "    _step = _get_current_task(state)\n",
    "    _, step_name, tool, tool_input = state[\"steps\"][_step - 1] # state[\"steps\"] = List   # how come this is a tuple like structure\n",
    "    _results = state[\"results\"] or {}\n",
    "\n",
    "    for k, v in _results.items():\n",
    "        tool_input = tool_input.replace(k, v)\n",
    "    \n",
    "    print(\"Print selected tool name: \", tool, \"/n\")\n",
    "\n",
    "    if tool == \"RAG_LLM\":\n",
    "        result = model.invoke(tool_input)\n",
    "    elif tool ==\"EMAIL\":\n",
    "        result = plugin_instance.email_function()\n",
    "    elif tool ==\"COMPILE\":\n",
    "        result = plugin_instance.compile_paper()\n",
    "    elif tool ==\"CIRCULATE\":\n",
    "        result = plugin_instance.circulate_paper()\n",
    "    else:\n",
    "        raise ValueError\n",
    "    _results[step_name] = str(result)\n",
    "    return {\"results\": _results}"
   ]
  },
  {
   "cell_type": "markdown",
   "metadata": {},
   "source": [
    "## [3] Solver \n",
    "\n",
    "The solver receives the full plan and generates the final response based on the responses of the tool calls from the worker.\n",
    "\n",
    "Solver has its own prompt."
   ]
  },
  {
   "cell_type": "code",
   "execution_count": 44,
   "metadata": {},
   "outputs": [],
   "source": [
    "solve_prompt = \"\"\"Solve the following task or problem. To solve the problem, we have made step-by-step Plan and \\\n",
    "retrieved corresponding Evidence to each Plan. Use them with caution since long evidence might \\\n",
    "contain irrelevant information.\n",
    "\n",
    "{plan}\n",
    "\n",
    "Now solve the question or task according to provided Evidence above. Respond with the answer\n",
    "directly with no extra words.\n",
    "\n",
    "Task: {task}\n",
    "Response:\"\"\"\n",
    "\n",
    "def solve(state: ReWOO):\n",
    "    plan = \"\"\n",
    "    for _plan, step_name, tool, tool_input in state[\"steps\"]:\n",
    "        _results = state[\"results\"] or {}\n",
    "        for k, v in _results.items():\n",
    "            tool_input = tool_input.replace(k, v)\n",
    "            step_name = step_name.replace(k, v)\n",
    "        plan += f\"Plan: {_plan}\\n{step_name} = {tool}[{tool_input}]\"\n",
    "    prompt = solve_prompt.format(plan=plan, task=state[\"task\"])\n",
    "    result = model.invoke(prompt)                                      # should I use LLM or RAG + LLM ???? Try just LLM first, will be faster\n",
    "    return {\"result\": result.content}"
   ]
  },
  {
   "cell_type": "markdown",
   "metadata": {},
   "source": [
    "## [4] Define Graph\n",
    "\n",
    "Our graph defines the workflow. \n",
    "\n",
    "Each of the planner, worker(tool executor), and solver modules are added as nodes."
   ]
  },
  {
   "cell_type": "code",
   "execution_count": 45,
   "metadata": {},
   "outputs": [],
   "source": [
    "def _route(state):\n",
    "    _step = _get_current_task(state)\n",
    "    if _step is None:\n",
    "        # We have executed all tasks\n",
    "        return \"solve\"\n",
    "    else:\n",
    "        # We are still executing tasks, loop back to the \"tool\" node\n",
    "        return \"tool\""
   ]
  },
  {
   "cell_type": "code",
   "execution_count": 46,
   "metadata": {},
   "outputs": [],
   "source": [
    "from langgraph.graph import StateGraph, END\n",
    "\n",
    "graph = StateGraph(ReWOO)\n",
    "graph.add_node(\"plan\", get_plan)\n",
    "graph.add_node(\"tool\", tool_execution)\n",
    "graph.add_node(\"solve\", solve)\n",
    "graph.add_edge(\"plan\", \"tool\")\n",
    "graph.add_edge(\"solve\", END)\n",
    "graph.add_conditional_edges(\"tool\", _route)\n",
    "graph.set_entry_point(\"plan\")\n",
    "\n",
    "app = graph.compile()"
   ]
  },
  {
   "cell_type": "code",
   "execution_count": 27,
   "metadata": {},
   "outputs": [
    {
     "data": {
      "text/plain": [
       "'how do I create a board paper?'"
      ]
     },
     "execution_count": 27,
     "metadata": {},
     "output_type": "execute_result"
    }
   ],
   "source": [
    "task"
   ]
  },
  {
   "cell_type": "code",
   "execution_count": 47,
   "metadata": {},
   "outputs": [
    {
     "name": "stdout",
     "output_type": "stream",
     "text": [
      "{'plan': {'steps': [('Understand what a board paper is. ', '#E1', 'RAG_LLM', 'What is a board paper?'), ('Identify the key components required in a board paper. ', '#E2', 'RAG_LLM', 'What are the key components of a board paper?'), ('Determine who are the necessary people involved in the creation of the board paper. ', '#E3', 'RAG_LLM', 'Who are involved in the creation of a board paper?'), ('Send an email to the board members or NEC to write their parts of the board paper, based on the key components identified. ', '#E4', 'EMAIL', '#E2 and #E3'), ('Once the board members or NEC have written their parts, compile all the separate parts into one board paper. ', '#E5', 'COMPILE', '#E4'), ('After the paper is compiled, circulate the board paper to the board members for feedback and fixing if required. ', '#E6', 'CIRCULATE', '#E5'), ('Once the board paper is finalized, distribute the paper to the board members. ', '#E7', 'EMAIL', 'Finalized board paper to #E3')], 'plan_string': 'Plan: Understand what a board paper is. #E1 = RAG_LLM[What is a board paper?]\\n\\nPlan: Identify the key components required in a board paper. #E2 = RAG_LLM[What are the key components of a board paper?]\\n\\nPlan: Determine who are the necessary people involved in the creation of the board paper. #E3 = RAG_LLM[Who are involved in the creation of a board paper?]\\n\\nPlan: Send an email to the board members or NEC to write their parts of the board paper, based on the key components identified. #E4 = EMAIL[#E2 and #E3]\\n\\nPlan: Once the board members or NEC have written their parts, compile all the separate parts into one board paper. #E5 = COMPILE[#E4]\\n\\nPlan: After the paper is compiled, circulate the board paper to the board members for feedback and fixing if required. #E6 = CIRCULATE[#E5]\\n\\nPlan: Once the board paper is finalized, distribute the paper to the board members. #E7 = EMAIL[Finalized board paper to #E3]'}}\n",
      "---\n",
      "Print selected tool name:  RAG_LLM /n\n",
      "{'tool': {'results': {'#E1': \"content='A board paper is a document or report prepared for a board of directors meeting. It provides important information on a specific topic or issue to help the board make informed decisions. The paper may include details about company performance, financial status, strategic plans, proposed projects, or other critical matters. The content and layout of a board paper may vary depending on the organization and the topic being discussed.' response_metadata={'finish_reason': 'stop', 'logprobs': None, 'content_filter_results': {'hate': {'filtered': False, 'severity': 'safe'}, 'self_harm': {'filtered': False, 'severity': 'safe'}, 'sexual': {'filtered': False, 'severity': 'safe'}, 'violence': {'filtered': False, 'severity': 'safe'}}}\"}}}\n",
      "---\n",
      "Print selected tool name:  RAG_LLM /n\n",
      "{'tool': {'results': {'#E1': \"content='A board paper is a document or report prepared for a board of directors meeting. It provides important information on a specific topic or issue to help the board make informed decisions. The paper may include details about company performance, financial status, strategic plans, proposed projects, or other critical matters. The content and layout of a board paper may vary depending on the organization and the topic being discussed.' response_metadata={'finish_reason': 'stop', 'logprobs': None, 'content_filter_results': {'hate': {'filtered': False, 'severity': 'safe'}, 'self_harm': {'filtered': False, 'severity': 'safe'}, 'sexual': {'filtered': False, 'severity': 'safe'}, 'violence': {'filtered': False, 'severity': 'safe'}}}\", '#E2': 'content=\"1. Title: The title should clearly indicate the topic of the board paper.\\\\n\\\\n2. Executive Summary: This section provides a brief overview of the entire document, highlighting key points, decisions to be made, and recommendations.\\\\n\\\\n3. Background: This section provides context and history related to the topic of the board paper. It should provide enough information for the reader to understand the issue at hand.\\\\n\\\\n4. Discussion/Analysis: This is the main section of the board paper where detailed information, analysis, and discussion points are provided. This section should provide a thorough understanding of the issue and any potential impacts, risks, or benefits.\\\\n\\\\n5. Recommendations: This section outlines the proposed actions or decisions to be made by the board. It should clearly state what is being asked of the board.\\\\n\\\\n6. Attachments/Appendices: If necessary, additional information, data, or research can be included in an appendix or as attachments. This might include financial data, legal documentation, or detailed research reports.\\\\n\\\\n7. Author and Date: It’s important to note who prepared the board paper and when it was prepared. This information can be useful for future reference and accountability.\\\\n\\\\n8. Confidentiality Statement: If the information within the board paper is confidential, a statement indicating this should be included.\\\\n\\\\n9. Approvals: The board paper may need to be approved by certain individuals or departments before it can be presented to the board. This could include senior management, legal or finance departments, etc.\\\\n\\\\n10. Action Required: A clear statement of the action required by the board - whether it\\'s a decision, approval, or note.\" response_metadata={\\'finish_reason\\': \\'stop\\', \\'logprobs\\': None, \\'content_filter_results\\': {\\'hate\\': {\\'filtered\\': False, \\'severity\\': \\'safe\\'}, \\'self_harm\\': {\\'filtered\\': False, \\'severity\\': \\'safe\\'}, \\'sexual\\': {\\'filtered\\': False, \\'severity\\': \\'safe\\'}, \\'violence\\': {\\'filtered\\': False, \\'severity\\': \\'safe\\'}}}'}}}\n",
      "---\n",
      "Print selected tool name:  RAG_LLM /n\n",
      "{'tool': {'results': {'#E1': \"content='A board paper is a document or report prepared for a board of directors meeting. It provides important information on a specific topic or issue to help the board make informed decisions. The paper may include details about company performance, financial status, strategic plans, proposed projects, or other critical matters. The content and layout of a board paper may vary depending on the organization and the topic being discussed.' response_metadata={'finish_reason': 'stop', 'logprobs': None, 'content_filter_results': {'hate': {'filtered': False, 'severity': 'safe'}, 'self_harm': {'filtered': False, 'severity': 'safe'}, 'sexual': {'filtered': False, 'severity': 'safe'}, 'violence': {'filtered': False, 'severity': 'safe'}}}\", '#E2': 'content=\"1. Title: The title should clearly indicate the topic of the board paper.\\\\n\\\\n2. Executive Summary: This section provides a brief overview of the entire document, highlighting key points, decisions to be made, and recommendations.\\\\n\\\\n3. Background: This section provides context and history related to the topic of the board paper. It should provide enough information for the reader to understand the issue at hand.\\\\n\\\\n4. Discussion/Analysis: This is the main section of the board paper where detailed information, analysis, and discussion points are provided. This section should provide a thorough understanding of the issue and any potential impacts, risks, or benefits.\\\\n\\\\n5. Recommendations: This section outlines the proposed actions or decisions to be made by the board. It should clearly state what is being asked of the board.\\\\n\\\\n6. Attachments/Appendices: If necessary, additional information, data, or research can be included in an appendix or as attachments. This might include financial data, legal documentation, or detailed research reports.\\\\n\\\\n7. Author and Date: It’s important to note who prepared the board paper and when it was prepared. This information can be useful for future reference and accountability.\\\\n\\\\n8. Confidentiality Statement: If the information within the board paper is confidential, a statement indicating this should be included.\\\\n\\\\n9. Approvals: The board paper may need to be approved by certain individuals or departments before it can be presented to the board. This could include senior management, legal or finance departments, etc.\\\\n\\\\n10. Action Required: A clear statement of the action required by the board - whether it\\'s a decision, approval, or note.\" response_metadata={\\'finish_reason\\': \\'stop\\', \\'logprobs\\': None, \\'content_filter_results\\': {\\'hate\\': {\\'filtered\\': False, \\'severity\\': \\'safe\\'}, \\'self_harm\\': {\\'filtered\\': False, \\'severity\\': \\'safe\\'}, \\'sexual\\': {\\'filtered\\': False, \\'severity\\': \\'safe\\'}, \\'violence\\': {\\'filtered\\': False, \\'severity\\': \\'safe\\'}}}', '#E3': 'content=\"1. Board Members: The board members are involved in the creation of a board paper. They provide the necessary information and guidance required to draft the paper. They also review and approve the final document.\\\\n\\\\n2. Company Secretary: The company secretary plays a significant role in the creation of a board paper. They are responsible for collating all the necessary information and presenting it in a concise and coherent manner.\\\\n\\\\n3. Senior Executives: Senior executives or managers of the company often contribute to the creation of a board paper. They provide insights into the company\\'s operations, financial performance, and strategic initiatives.\\\\n\\\\n4. Legal Counsel: The company\\'s legal counsel may also be involved in the creation of a board paper. They ensure that all the information presented in the paper is legally sound and compliant with the relevant laws and regulations.\\\\n\\\\n5. External Consultants: Depending on the nature of the board paper, external consultants may also be involved. These could be financial advisors, strategic consultants, or other subject matter experts.\\\\n\\\\n6. Audit Committee: The audit committee may also contribute to the creation of a board paper, especially if it relates to financial matters or risk management.\\\\n\\\\n7. Compliance Officer: The compliance officer ensures that the board paper adheres to all relevant regulations and industry standards. They may also provide input on risk management issues. \\\\n\\\\n8. Other Stakeholders: Depending on the topic of the board paper, other stakeholders such as employees, customers, or suppliers may also be involved in its creation. This could be through providing feedback, data, or other relevant information.\" response_metadata={\\'finish_reason\\': \\'stop\\', \\'logprobs\\': None, \\'content_filter_results\\': {\\'hate\\': {\\'filtered\\': False, \\'severity\\': \\'safe\\'}, \\'self_harm\\': {\\'filtered\\': False, \\'severity\\': \\'safe\\'}, \\'sexual\\': {\\'filtered\\': False, \\'severity\\': \\'safe\\'}, \\'violence\\': {\\'filtered\\': False, \\'severity\\': \\'safe\\'}}}'}}}\n",
      "---\n",
      "Print selected tool name:  EMAIL /n\n",
      "{'tool': {'results': {'#E1': \"content='A board paper is a document or report prepared for a board of directors meeting. It provides important information on a specific topic or issue to help the board make informed decisions. The paper may include details about company performance, financial status, strategic plans, proposed projects, or other critical matters. The content and layout of a board paper may vary depending on the organization and the topic being discussed.' response_metadata={'finish_reason': 'stop', 'logprobs': None, 'content_filter_results': {'hate': {'filtered': False, 'severity': 'safe'}, 'self_harm': {'filtered': False, 'severity': 'safe'}, 'sexual': {'filtered': False, 'severity': 'safe'}, 'violence': {'filtered': False, 'severity': 'safe'}}}\", '#E2': 'content=\"1. Title: The title should clearly indicate the topic of the board paper.\\\\n\\\\n2. Executive Summary: This section provides a brief overview of the entire document, highlighting key points, decisions to be made, and recommendations.\\\\n\\\\n3. Background: This section provides context and history related to the topic of the board paper. It should provide enough information for the reader to understand the issue at hand.\\\\n\\\\n4. Discussion/Analysis: This is the main section of the board paper where detailed information, analysis, and discussion points are provided. This section should provide a thorough understanding of the issue and any potential impacts, risks, or benefits.\\\\n\\\\n5. Recommendations: This section outlines the proposed actions or decisions to be made by the board. It should clearly state what is being asked of the board.\\\\n\\\\n6. Attachments/Appendices: If necessary, additional information, data, or research can be included in an appendix or as attachments. This might include financial data, legal documentation, or detailed research reports.\\\\n\\\\n7. Author and Date: It’s important to note who prepared the board paper and when it was prepared. This information can be useful for future reference and accountability.\\\\n\\\\n8. Confidentiality Statement: If the information within the board paper is confidential, a statement indicating this should be included.\\\\n\\\\n9. Approvals: The board paper may need to be approved by certain individuals or departments before it can be presented to the board. This could include senior management, legal or finance departments, etc.\\\\n\\\\n10. Action Required: A clear statement of the action required by the board - whether it\\'s a decision, approval, or note.\" response_metadata={\\'finish_reason\\': \\'stop\\', \\'logprobs\\': None, \\'content_filter_results\\': {\\'hate\\': {\\'filtered\\': False, \\'severity\\': \\'safe\\'}, \\'self_harm\\': {\\'filtered\\': False, \\'severity\\': \\'safe\\'}, \\'sexual\\': {\\'filtered\\': False, \\'severity\\': \\'safe\\'}, \\'violence\\': {\\'filtered\\': False, \\'severity\\': \\'safe\\'}}}', '#E3': 'content=\"1. Board Members: The board members are involved in the creation of a board paper. They provide the necessary information and guidance required to draft the paper. They also review and approve the final document.\\\\n\\\\n2. Company Secretary: The company secretary plays a significant role in the creation of a board paper. They are responsible for collating all the necessary information and presenting it in a concise and coherent manner.\\\\n\\\\n3. Senior Executives: Senior executives or managers of the company often contribute to the creation of a board paper. They provide insights into the company\\'s operations, financial performance, and strategic initiatives.\\\\n\\\\n4. Legal Counsel: The company\\'s legal counsel may also be involved in the creation of a board paper. They ensure that all the information presented in the paper is legally sound and compliant with the relevant laws and regulations.\\\\n\\\\n5. External Consultants: Depending on the nature of the board paper, external consultants may also be involved. These could be financial advisors, strategic consultants, or other subject matter experts.\\\\n\\\\n6. Audit Committee: The audit committee may also contribute to the creation of a board paper, especially if it relates to financial matters or risk management.\\\\n\\\\n7. Compliance Officer: The compliance officer ensures that the board paper adheres to all relevant regulations and industry standards. They may also provide input on risk management issues. \\\\n\\\\n8. Other Stakeholders: Depending on the topic of the board paper, other stakeholders such as employees, customers, or suppliers may also be involved in its creation. This could be through providing feedback, data, or other relevant information.\" response_metadata={\\'finish_reason\\': \\'stop\\', \\'logprobs\\': None, \\'content_filter_results\\': {\\'hate\\': {\\'filtered\\': False, \\'severity\\': \\'safe\\'}, \\'self_harm\\': {\\'filtered\\': False, \\'severity\\': \\'safe\\'}, \\'sexual\\': {\\'filtered\\': False, \\'severity\\': \\'safe\\'}, \\'violence\\': {\\'filtered\\': False, \\'severity\\': \\'safe\\'}}}', '#E4': 'email sent'}}}\n",
      "---\n",
      "Print selected tool name:  COMPILE /n\n",
      "{'tool': {'results': {'#E1': \"content='A board paper is a document or report prepared for a board of directors meeting. It provides important information on a specific topic or issue to help the board make informed decisions. The paper may include details about company performance, financial status, strategic plans, proposed projects, or other critical matters. The content and layout of a board paper may vary depending on the organization and the topic being discussed.' response_metadata={'finish_reason': 'stop', 'logprobs': None, 'content_filter_results': {'hate': {'filtered': False, 'severity': 'safe'}, 'self_harm': {'filtered': False, 'severity': 'safe'}, 'sexual': {'filtered': False, 'severity': 'safe'}, 'violence': {'filtered': False, 'severity': 'safe'}}}\", '#E2': 'content=\"1. Title: The title should clearly indicate the topic of the board paper.\\\\n\\\\n2. Executive Summary: This section provides a brief overview of the entire document, highlighting key points, decisions to be made, and recommendations.\\\\n\\\\n3. Background: This section provides context and history related to the topic of the board paper. It should provide enough information for the reader to understand the issue at hand.\\\\n\\\\n4. Discussion/Analysis: This is the main section of the board paper where detailed information, analysis, and discussion points are provided. This section should provide a thorough understanding of the issue and any potential impacts, risks, or benefits.\\\\n\\\\n5. Recommendations: This section outlines the proposed actions or decisions to be made by the board. It should clearly state what is being asked of the board.\\\\n\\\\n6. Attachments/Appendices: If necessary, additional information, data, or research can be included in an appendix or as attachments. This might include financial data, legal documentation, or detailed research reports.\\\\n\\\\n7. Author and Date: It’s important to note who prepared the board paper and when it was prepared. This information can be useful for future reference and accountability.\\\\n\\\\n8. Confidentiality Statement: If the information within the board paper is confidential, a statement indicating this should be included.\\\\n\\\\n9. Approvals: The board paper may need to be approved by certain individuals or departments before it can be presented to the board. This could include senior management, legal or finance departments, etc.\\\\n\\\\n10. Action Required: A clear statement of the action required by the board - whether it\\'s a decision, approval, or note.\" response_metadata={\\'finish_reason\\': \\'stop\\', \\'logprobs\\': None, \\'content_filter_results\\': {\\'hate\\': {\\'filtered\\': False, \\'severity\\': \\'safe\\'}, \\'self_harm\\': {\\'filtered\\': False, \\'severity\\': \\'safe\\'}, \\'sexual\\': {\\'filtered\\': False, \\'severity\\': \\'safe\\'}, \\'violence\\': {\\'filtered\\': False, \\'severity\\': \\'safe\\'}}}', '#E3': 'content=\"1. Board Members: The board members are involved in the creation of a board paper. They provide the necessary information and guidance required to draft the paper. They also review and approve the final document.\\\\n\\\\n2. Company Secretary: The company secretary plays a significant role in the creation of a board paper. They are responsible for collating all the necessary information and presenting it in a concise and coherent manner.\\\\n\\\\n3. Senior Executives: Senior executives or managers of the company often contribute to the creation of a board paper. They provide insights into the company\\'s operations, financial performance, and strategic initiatives.\\\\n\\\\n4. Legal Counsel: The company\\'s legal counsel may also be involved in the creation of a board paper. They ensure that all the information presented in the paper is legally sound and compliant with the relevant laws and regulations.\\\\n\\\\n5. External Consultants: Depending on the nature of the board paper, external consultants may also be involved. These could be financial advisors, strategic consultants, or other subject matter experts.\\\\n\\\\n6. Audit Committee: The audit committee may also contribute to the creation of a board paper, especially if it relates to financial matters or risk management.\\\\n\\\\n7. Compliance Officer: The compliance officer ensures that the board paper adheres to all relevant regulations and industry standards. They may also provide input on risk management issues. \\\\n\\\\n8. Other Stakeholders: Depending on the topic of the board paper, other stakeholders such as employees, customers, or suppliers may also be involved in its creation. This could be through providing feedback, data, or other relevant information.\" response_metadata={\\'finish_reason\\': \\'stop\\', \\'logprobs\\': None, \\'content_filter_results\\': {\\'hate\\': {\\'filtered\\': False, \\'severity\\': \\'safe\\'}, \\'self_harm\\': {\\'filtered\\': False, \\'severity\\': \\'safe\\'}, \\'sexual\\': {\\'filtered\\': False, \\'severity\\': \\'safe\\'}, \\'violence\\': {\\'filtered\\': False, \\'severity\\': \\'safe\\'}}}', '#E4': 'email sent', '#E5': 'compile paper'}}}\n",
      "---\n",
      "Print selected tool name:  CIRCULATE /n\n",
      "{'tool': {'results': {'#E1': \"content='A board paper is a document or report prepared for a board of directors meeting. It provides important information on a specific topic or issue to help the board make informed decisions. The paper may include details about company performance, financial status, strategic plans, proposed projects, or other critical matters. The content and layout of a board paper may vary depending on the organization and the topic being discussed.' response_metadata={'finish_reason': 'stop', 'logprobs': None, 'content_filter_results': {'hate': {'filtered': False, 'severity': 'safe'}, 'self_harm': {'filtered': False, 'severity': 'safe'}, 'sexual': {'filtered': False, 'severity': 'safe'}, 'violence': {'filtered': False, 'severity': 'safe'}}}\", '#E2': 'content=\"1. Title: The title should clearly indicate the topic of the board paper.\\\\n\\\\n2. Executive Summary: This section provides a brief overview of the entire document, highlighting key points, decisions to be made, and recommendations.\\\\n\\\\n3. Background: This section provides context and history related to the topic of the board paper. It should provide enough information for the reader to understand the issue at hand.\\\\n\\\\n4. Discussion/Analysis: This is the main section of the board paper where detailed information, analysis, and discussion points are provided. This section should provide a thorough understanding of the issue and any potential impacts, risks, or benefits.\\\\n\\\\n5. Recommendations: This section outlines the proposed actions or decisions to be made by the board. It should clearly state what is being asked of the board.\\\\n\\\\n6. Attachments/Appendices: If necessary, additional information, data, or research can be included in an appendix or as attachments. This might include financial data, legal documentation, or detailed research reports.\\\\n\\\\n7. Author and Date: It’s important to note who prepared the board paper and when it was prepared. This information can be useful for future reference and accountability.\\\\n\\\\n8. Confidentiality Statement: If the information within the board paper is confidential, a statement indicating this should be included.\\\\n\\\\n9. Approvals: The board paper may need to be approved by certain individuals or departments before it can be presented to the board. This could include senior management, legal or finance departments, etc.\\\\n\\\\n10. Action Required: A clear statement of the action required by the board - whether it\\'s a decision, approval, or note.\" response_metadata={\\'finish_reason\\': \\'stop\\', \\'logprobs\\': None, \\'content_filter_results\\': {\\'hate\\': {\\'filtered\\': False, \\'severity\\': \\'safe\\'}, \\'self_harm\\': {\\'filtered\\': False, \\'severity\\': \\'safe\\'}, \\'sexual\\': {\\'filtered\\': False, \\'severity\\': \\'safe\\'}, \\'violence\\': {\\'filtered\\': False, \\'severity\\': \\'safe\\'}}}', '#E3': 'content=\"1. Board Members: The board members are involved in the creation of a board paper. They provide the necessary information and guidance required to draft the paper. They also review and approve the final document.\\\\n\\\\n2. Company Secretary: The company secretary plays a significant role in the creation of a board paper. They are responsible for collating all the necessary information and presenting it in a concise and coherent manner.\\\\n\\\\n3. Senior Executives: Senior executives or managers of the company often contribute to the creation of a board paper. They provide insights into the company\\'s operations, financial performance, and strategic initiatives.\\\\n\\\\n4. Legal Counsel: The company\\'s legal counsel may also be involved in the creation of a board paper. They ensure that all the information presented in the paper is legally sound and compliant with the relevant laws and regulations.\\\\n\\\\n5. External Consultants: Depending on the nature of the board paper, external consultants may also be involved. These could be financial advisors, strategic consultants, or other subject matter experts.\\\\n\\\\n6. Audit Committee: The audit committee may also contribute to the creation of a board paper, especially if it relates to financial matters or risk management.\\\\n\\\\n7. Compliance Officer: The compliance officer ensures that the board paper adheres to all relevant regulations and industry standards. They may also provide input on risk management issues. \\\\n\\\\n8. Other Stakeholders: Depending on the topic of the board paper, other stakeholders such as employees, customers, or suppliers may also be involved in its creation. This could be through providing feedback, data, or other relevant information.\" response_metadata={\\'finish_reason\\': \\'stop\\', \\'logprobs\\': None, \\'content_filter_results\\': {\\'hate\\': {\\'filtered\\': False, \\'severity\\': \\'safe\\'}, \\'self_harm\\': {\\'filtered\\': False, \\'severity\\': \\'safe\\'}, \\'sexual\\': {\\'filtered\\': False, \\'severity\\': \\'safe\\'}, \\'violence\\': {\\'filtered\\': False, \\'severity\\': \\'safe\\'}}}', '#E4': 'email sent', '#E5': 'compile paper', '#E6': 'circulate paper'}}}\n",
      "---\n",
      "Print selected tool name:  EMAIL /n\n",
      "{'tool': {'results': {'#E1': \"content='A board paper is a document or report prepared for a board of directors meeting. It provides important information on a specific topic or issue to help the board make informed decisions. The paper may include details about company performance, financial status, strategic plans, proposed projects, or other critical matters. The content and layout of a board paper may vary depending on the organization and the topic being discussed.' response_metadata={'finish_reason': 'stop', 'logprobs': None, 'content_filter_results': {'hate': {'filtered': False, 'severity': 'safe'}, 'self_harm': {'filtered': False, 'severity': 'safe'}, 'sexual': {'filtered': False, 'severity': 'safe'}, 'violence': {'filtered': False, 'severity': 'safe'}}}\", '#E2': 'content=\"1. Title: The title should clearly indicate the topic of the board paper.\\\\n\\\\n2. Executive Summary: This section provides a brief overview of the entire document, highlighting key points, decisions to be made, and recommendations.\\\\n\\\\n3. Background: This section provides context and history related to the topic of the board paper. It should provide enough information for the reader to understand the issue at hand.\\\\n\\\\n4. Discussion/Analysis: This is the main section of the board paper where detailed information, analysis, and discussion points are provided. This section should provide a thorough understanding of the issue and any potential impacts, risks, or benefits.\\\\n\\\\n5. Recommendations: This section outlines the proposed actions or decisions to be made by the board. It should clearly state what is being asked of the board.\\\\n\\\\n6. Attachments/Appendices: If necessary, additional information, data, or research can be included in an appendix or as attachments. This might include financial data, legal documentation, or detailed research reports.\\\\n\\\\n7. Author and Date: It’s important to note who prepared the board paper and when it was prepared. This information can be useful for future reference and accountability.\\\\n\\\\n8. Confidentiality Statement: If the information within the board paper is confidential, a statement indicating this should be included.\\\\n\\\\n9. Approvals: The board paper may need to be approved by certain individuals or departments before it can be presented to the board. This could include senior management, legal or finance departments, etc.\\\\n\\\\n10. Action Required: A clear statement of the action required by the board - whether it\\'s a decision, approval, or note.\" response_metadata={\\'finish_reason\\': \\'stop\\', \\'logprobs\\': None, \\'content_filter_results\\': {\\'hate\\': {\\'filtered\\': False, \\'severity\\': \\'safe\\'}, \\'self_harm\\': {\\'filtered\\': False, \\'severity\\': \\'safe\\'}, \\'sexual\\': {\\'filtered\\': False, \\'severity\\': \\'safe\\'}, \\'violence\\': {\\'filtered\\': False, \\'severity\\': \\'safe\\'}}}', '#E3': 'content=\"1. Board Members: The board members are involved in the creation of a board paper. They provide the necessary information and guidance required to draft the paper. They also review and approve the final document.\\\\n\\\\n2. Company Secretary: The company secretary plays a significant role in the creation of a board paper. They are responsible for collating all the necessary information and presenting it in a concise and coherent manner.\\\\n\\\\n3. Senior Executives: Senior executives or managers of the company often contribute to the creation of a board paper. They provide insights into the company\\'s operations, financial performance, and strategic initiatives.\\\\n\\\\n4. Legal Counsel: The company\\'s legal counsel may also be involved in the creation of a board paper. They ensure that all the information presented in the paper is legally sound and compliant with the relevant laws and regulations.\\\\n\\\\n5. External Consultants: Depending on the nature of the board paper, external consultants may also be involved. These could be financial advisors, strategic consultants, or other subject matter experts.\\\\n\\\\n6. Audit Committee: The audit committee may also contribute to the creation of a board paper, especially if it relates to financial matters or risk management.\\\\n\\\\n7. Compliance Officer: The compliance officer ensures that the board paper adheres to all relevant regulations and industry standards. They may also provide input on risk management issues. \\\\n\\\\n8. Other Stakeholders: Depending on the topic of the board paper, other stakeholders such as employees, customers, or suppliers may also be involved in its creation. This could be through providing feedback, data, or other relevant information.\" response_metadata={\\'finish_reason\\': \\'stop\\', \\'logprobs\\': None, \\'content_filter_results\\': {\\'hate\\': {\\'filtered\\': False, \\'severity\\': \\'safe\\'}, \\'self_harm\\': {\\'filtered\\': False, \\'severity\\': \\'safe\\'}, \\'sexual\\': {\\'filtered\\': False, \\'severity\\': \\'safe\\'}, \\'violence\\': {\\'filtered\\': False, \\'severity\\': \\'safe\\'}}}', '#E4': 'email sent', '#E5': 'compile paper', '#E6': 'circulate paper', '#E7': 'email sent'}}}\n",
      "---\n",
      "{'solve': {'result': 'First, understand that a board paper is a document prepared for a board of directors meeting, providing important information on specific topics to help the board make informed decisions. The key components of a board paper include the title, executive summary, background information, discussion/analysis, recommendations, attachments/appendices if necessary, author and date, confidentiality statement, approvals, and the action required by the board.\\n\\nInvolve the necessary people in the creation of the board paper. This could include board members, company secretary, senior executives, legal counsel, external consultants, audit committee, compliance officer, and other stakeholders depending on the topic of the board paper.\\n\\nNext, send an email to the board members or NEC requesting them to write their parts of the board paper based on the identified key components. After all the parts have been written, compile all the separate parts into one board paper.\\n\\nOnce the board paper is compiled, circulate it to the board members for feedback and necessary fixes. After the paper is finalized, distribute it to the board members.'}}\n",
      "---\n",
      "{'__end__': {'task': 'how do I create a board paper?', 'plan_string': 'Plan: Understand what a board paper is. #E1 = RAG_LLM[What is a board paper?]\\n\\nPlan: Identify the key components required in a board paper. #E2 = RAG_LLM[What are the key components of a board paper?]\\n\\nPlan: Determine who are the necessary people involved in the creation of the board paper. #E3 = RAG_LLM[Who are involved in the creation of a board paper?]\\n\\nPlan: Send an email to the board members or NEC to write their parts of the board paper, based on the key components identified. #E4 = EMAIL[#E2 and #E3]\\n\\nPlan: Once the board members or NEC have written their parts, compile all the separate parts into one board paper. #E5 = COMPILE[#E4]\\n\\nPlan: After the paper is compiled, circulate the board paper to the board members for feedback and fixing if required. #E6 = CIRCULATE[#E5]\\n\\nPlan: Once the board paper is finalized, distribute the paper to the board members. #E7 = EMAIL[Finalized board paper to #E3]', 'steps': [('Understand what a board paper is. ', '#E1', 'RAG_LLM', 'What is a board paper?'), ('Identify the key components required in a board paper. ', '#E2', 'RAG_LLM', 'What are the key components of a board paper?'), ('Determine who are the necessary people involved in the creation of the board paper. ', '#E3', 'RAG_LLM', 'Who are involved in the creation of a board paper?'), ('Send an email to the board members or NEC to write their parts of the board paper, based on the key components identified. ', '#E4', 'EMAIL', '#E2 and #E3'), ('Once the board members or NEC have written their parts, compile all the separate parts into one board paper. ', '#E5', 'COMPILE', '#E4'), ('After the paper is compiled, circulate the board paper to the board members for feedback and fixing if required. ', '#E6', 'CIRCULATE', '#E5'), ('Once the board paper is finalized, distribute the paper to the board members. ', '#E7', 'EMAIL', 'Finalized board paper to #E3')], 'results': {'#E1': \"content='A board paper is a document or report prepared for a board of directors meeting. It provides important information on a specific topic or issue to help the board make informed decisions. The paper may include details about company performance, financial status, strategic plans, proposed projects, or other critical matters. The content and layout of a board paper may vary depending on the organization and the topic being discussed.' response_metadata={'finish_reason': 'stop', 'logprobs': None, 'content_filter_results': {'hate': {'filtered': False, 'severity': 'safe'}, 'self_harm': {'filtered': False, 'severity': 'safe'}, 'sexual': {'filtered': False, 'severity': 'safe'}, 'violence': {'filtered': False, 'severity': 'safe'}}}\", '#E2': 'content=\"1. Title: The title should clearly indicate the topic of the board paper.\\\\n\\\\n2. Executive Summary: This section provides a brief overview of the entire document, highlighting key points, decisions to be made, and recommendations.\\\\n\\\\n3. Background: This section provides context and history related to the topic of the board paper. It should provide enough information for the reader to understand the issue at hand.\\\\n\\\\n4. Discussion/Analysis: This is the main section of the board paper where detailed information, analysis, and discussion points are provided. This section should provide a thorough understanding of the issue and any potential impacts, risks, or benefits.\\\\n\\\\n5. Recommendations: This section outlines the proposed actions or decisions to be made by the board. It should clearly state what is being asked of the board.\\\\n\\\\n6. Attachments/Appendices: If necessary, additional information, data, or research can be included in an appendix or as attachments. This might include financial data, legal documentation, or detailed research reports.\\\\n\\\\n7. Author and Date: It’s important to note who prepared the board paper and when it was prepared. This information can be useful for future reference and accountability.\\\\n\\\\n8. Confidentiality Statement: If the information within the board paper is confidential, a statement indicating this should be included.\\\\n\\\\n9. Approvals: The board paper may need to be approved by certain individuals or departments before it can be presented to the board. This could include senior management, legal or finance departments, etc.\\\\n\\\\n10. Action Required: A clear statement of the action required by the board - whether it\\'s a decision, approval, or note.\" response_metadata={\\'finish_reason\\': \\'stop\\', \\'logprobs\\': None, \\'content_filter_results\\': {\\'hate\\': {\\'filtered\\': False, \\'severity\\': \\'safe\\'}, \\'self_harm\\': {\\'filtered\\': False, \\'severity\\': \\'safe\\'}, \\'sexual\\': {\\'filtered\\': False, \\'severity\\': \\'safe\\'}, \\'violence\\': {\\'filtered\\': False, \\'severity\\': \\'safe\\'}}}', '#E3': 'content=\"1. Board Members: The board members are involved in the creation of a board paper. They provide the necessary information and guidance required to draft the paper. They also review and approve the final document.\\\\n\\\\n2. Company Secretary: The company secretary plays a significant role in the creation of a board paper. They are responsible for collating all the necessary information and presenting it in a concise and coherent manner.\\\\n\\\\n3. Senior Executives: Senior executives or managers of the company often contribute to the creation of a board paper. They provide insights into the company\\'s operations, financial performance, and strategic initiatives.\\\\n\\\\n4. Legal Counsel: The company\\'s legal counsel may also be involved in the creation of a board paper. They ensure that all the information presented in the paper is legally sound and compliant with the relevant laws and regulations.\\\\n\\\\n5. External Consultants: Depending on the nature of the board paper, external consultants may also be involved. These could be financial advisors, strategic consultants, or other subject matter experts.\\\\n\\\\n6. Audit Committee: The audit committee may also contribute to the creation of a board paper, especially if it relates to financial matters or risk management.\\\\n\\\\n7. Compliance Officer: The compliance officer ensures that the board paper adheres to all relevant regulations and industry standards. They may also provide input on risk management issues. \\\\n\\\\n8. Other Stakeholders: Depending on the topic of the board paper, other stakeholders such as employees, customers, or suppliers may also be involved in its creation. This could be through providing feedback, data, or other relevant information.\" response_metadata={\\'finish_reason\\': \\'stop\\', \\'logprobs\\': None, \\'content_filter_results\\': {\\'hate\\': {\\'filtered\\': False, \\'severity\\': \\'safe\\'}, \\'self_harm\\': {\\'filtered\\': False, \\'severity\\': \\'safe\\'}, \\'sexual\\': {\\'filtered\\': False, \\'severity\\': \\'safe\\'}, \\'violence\\': {\\'filtered\\': False, \\'severity\\': \\'safe\\'}}}', '#E4': 'email sent', '#E5': 'compile paper', '#E6': 'circulate paper', '#E7': 'email sent'}, 'result': 'First, understand that a board paper is a document prepared for a board of directors meeting, providing important information on specific topics to help the board make informed decisions. The key components of a board paper include the title, executive summary, background information, discussion/analysis, recommendations, attachments/appendices if necessary, author and date, confidentiality statement, approvals, and the action required by the board.\\n\\nInvolve the necessary people in the creation of the board paper. This could include board members, company secretary, senior executives, legal counsel, external consultants, audit committee, compliance officer, and other stakeholders depending on the topic of the board paper.\\n\\nNext, send an email to the board members or NEC requesting them to write their parts of the board paper based on the identified key components. After all the parts have been written, compile all the separate parts into one board paper.\\n\\nOnce the board paper is compiled, circulate it to the board members for feedback and necessary fixes. After the paper is finalized, distribute it to the board members.'}}\n",
      "---\n"
     ]
    }
   ],
   "source": [
    "for s in app.stream({\"task\": task}):\n",
    "    print(s)\n",
    "    print(\"---\")"
   ]
  }
 ],
 "metadata": {
  "kernelspec": {
   "display_name": "Python 3",
   "language": "python",
   "name": "python3"
  },
  "language_info": {
   "codemirror_mode": {
    "name": "ipython",
    "version": 3
   },
   "file_extension": ".py",
   "mimetype": "text/x-python",
   "name": "python",
   "nbconvert_exporter": "python",
   "pygments_lexer": "ipython3",
   "version": "3.11.1"
  }
 },
 "nbformat": 4,
 "nbformat_minor": 2
}
