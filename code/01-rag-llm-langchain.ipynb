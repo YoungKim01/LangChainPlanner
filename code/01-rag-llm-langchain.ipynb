{
 "cells": [
  {
   "cell_type": "code",
   "execution_count": 77,
   "metadata": {},
   "outputs": [],
   "source": [
    "import os\n",
    "from dotenv import load_dotenv\n",
    "load_dotenv()\n",
    "azure_openai_endpoint = os.environ[\"AZURE_OPENAI_ENDPOINT\"]\n",
    "azure_openai_key = os.environ[\"AZURE_OPENAI_KEY\"]\n",
    "search_endpoint = os.environ[\"AZURE_SEARCH_SERVICE_ENDPOINT\"]\n",
    "search_key = os.environ[\"AZURE_SEARCH_ADMIN_KEY\"]"
   ]
  },
  {
   "cell_type": "code",
   "execution_count": 78,
   "metadata": {},
   "outputs": [],
   "source": [
    "from langchain_openai import AzureOpenAIEmbeddings, AzureChatOpenAI\n",
    "\n",
    "from langchain.vectorstores.azuresearch import AzureSearch\n",
    "from langchain_community.document_loaders import DirectoryLoader\n",
    "from langchain.text_splitter import RecursiveCharacterTextSplitter\n",
    "from langchain import hub\n",
    "from langchain_core.output_parsers import StrOutputParser\n",
    "from langchain_core.runnables import RunnablePassthrough"
   ]
  },
  {
   "cell_type": "markdown",
   "metadata": {},
   "source": [
    "## Setup your docs"
   ]
  },
  {
   "cell_type": "code",
   "execution_count": 79,
   "metadata": {},
   "outputs": [],
   "source": [
    "from langchain_community.document_loaders import TextLoader\n",
    "\n",
    "# loader = DirectoryLoader(r\"C:\\Users\\skim333\\OneDrive - KPMG\\Documents\\GitHub\\azure-search-vector-samples\\demo-python\\data\\documents_board\", glob=\"**/*.txt\")\n",
    "loader = DirectoryLoader(\"../data/documents_board\", glob=\"**/*.txt\")\n",
    "documents = loader.load()"
   ]
  },
  {
   "cell_type": "code",
   "execution_count": 80,
   "metadata": {},
   "outputs": [],
   "source": [
    "text_splitter = RecursiveCharacterTextSplitter(chunk_size=2000, chunk_overlap=500)\n",
    "nodes = text_splitter.split_documents(documents) #chucked docs"
   ]
  },
  {
   "cell_type": "code",
   "execution_count": 81,
   "metadata": {},
   "outputs": [
    {
     "data": {
      "text/plain": [
       "[Document(page_content='Board Members:\\n\\nMike CEO\\n\\nmike@mycompany.com\\n\\nCEO\\n\\nOlivia Johnson\\n\\nolivia@mycompany.com\\n\\nCFO\\n\\nAlex Rodriguez\\n\\nalex@mycompany.com\\n\\nCOO\\n\\nExecutives:\\n\\nEmily Smith\\n\\nemily@mycompany.com\\n\\nCTO\\n\\nVictoria Chen\\n\\nvictoria@mycompany.com\\n\\nCMO\\n\\nMichael Turner\\n\\nmichael@mycompany.com\\n\\nCIO\\n\\nJessica Baker\\n\\njessica@mycompany.com\\n\\nVP of Sales\\n\\nEthan White\\n\\nethan@mycompany.com\\n\\nVP of Marketing\\n\\nRyan Walker\\n\\nryan@mycompany.com\\n\\nVP of Operations\\n\\nAmanda Reed\\n\\namanda@mycompany.com\\n\\nChief Legal Officer', metadata={'source': '..\\\\data\\\\documents_board\\\\BoardmemberList.txt'}),\n",
       " Document(page_content='Neclist', metadata={'source': '..\\\\data\\\\documents_board\\\\NECList.txt'}),\n",
       " Document(page_content=\"scenario\\n\\nask: how do I create a board paper agent: what are agnedas?\\n\\nask: *performance *operation *profit agent: eamiling NEC(Board members). List below List: ceo xyz, coo xyz, etc\\n\\n[need to fix this part as we need to wait/chase] ask: I got responses from NEC. Here's board paper content. *performance: [content xyz] *operation: [content xyz] *profit:  [content xyz] agent: compiled into a paper. do you want to fix anything? otherwise circulate to board members.\\n\\nask: fix xyz. agent: fixed version here. circulate to board members?\\n\\nask: yes\\n\\nagent: circulate\", metadata={'source': '..\\\\data\\\\documents_board\\\\scenario.txt'}),\n",
       " Document(page_content=\"How to create and circulate board paper\\n\\n1) Based on the approved agenda(Usually approved agendas are performance, operation, profit + anything we want to add this time. ), Secretary emails NEC. (assume NEC is same as board members for now). If you don't have it, ask. Normally fixed ones are: performance, operation, profit\\n\\n2) NEC writes paper.\\n\\n3) Secretary circulates and distributes the paper to board members.\", metadata={'source': '..\\\\data\\\\documents_board\\\\Template.txt'})]"
      ]
     },
     "execution_count": 81,
     "metadata": {},
     "output_type": "execute_result"
    }
   ],
   "source": [
    "nodes"
   ]
  },
  {
   "cell_type": "markdown",
   "metadata": {},
   "source": [
    "## Embedding/vectorisation"
   ]
  },
  {
   "cell_type": "code",
   "execution_count": 82,
   "metadata": {},
   "outputs": [
    {
     "name": "stdout",
     "output_type": "stream",
     "text": [
      "done\n"
     ]
    }
   ],
   "source": [
    "embeddings: AzureOpenAIEmbeddings = AzureOpenAIEmbeddings(\n",
    "    azure_deployment=\"text-embedding-ada-002\",\n",
    "    api_key=azure_openai_key,\n",
    "    azure_endpoint=azure_openai_endpoint,\n",
    "    api_version=\"2023-09-01-preview\",\n",
    "    chunk_size=1 \n",
    ")\n",
    "vector_store: AzureSearch = AzureSearch(\n",
    "    azure_search_endpoint=search_endpoint,\n",
    "    azure_search_key=search_key,\n",
    "    index_name=\"boardai03\",\n",
    "    embedding_function=embeddings.embed_query,\n",
    ")\n",
    "vector_store.add_documents(documents=nodes)\n",
    "print(\"done\")"
   ]
  },
  {
   "cell_type": "markdown",
   "metadata": {},
   "source": [
    "## Query(RAG search -> LLM -> Final answer)"
   ]
  },
  {
   "cell_type": "markdown",
   "metadata": {},
   "source": [
    "[rag]"
   ]
  },
  {
   "cell_type": "code",
   "execution_count": 83,
   "metadata": {},
   "outputs": [
    {
     "data": {
      "text/plain": [
       "[Document(page_content=\"How to create and circulate board paper\\n\\n1) Based on the approved agenda(Usually approved agendas are performance, operation, profit + anything we want to add this time. ), Secretary emails NEC. (assume NEC is same as board members for now). If you don't have it, ask. Normally fixed ones are: performance, operation, profit\\n\\n2) NEC writes paper.\\n\\n3) Secretary circulates and distributes the paper to board members.\", metadata={'source': '..\\\\data\\\\documents_board\\\\Template.txt'}),\n",
       " Document(page_content=\"How to create and circulate board paper\\n\\n1) Based on the approved agenda(Usually approved agendas are performance, operation, profit + anything we want to add this time. ), Secretary emails NEC. (assume NEC is same as board members for now). If you don't have it, ask. Normally fixed ones are: performance, operation, profit\\n\\n2) NEC writes paper.\\n\\n3) Secretary circulates and distributes the paper to board members.\", metadata={'source': '..\\\\data\\\\documents_board\\\\Template.txt'})]"
      ]
     },
     "execution_count": 83,
     "metadata": {},
     "output_type": "execute_result"
    }
   ],
   "source": [
    "query = \"Who should be involved in the creation of a board paper?\"\n",
    "\n",
    "\n",
    "# query = \"Give me names of board members?\"\n",
    "\n",
    "\n",
    "docs = vector_store.similarity_search(\n",
    "    query=query,\n",
    "    k = 2,\n",
    "    search_type = \"hybrid\"\n",
    ")\n",
    "docs"
   ]
  },
  {
   "cell_type": "markdown",
   "metadata": {},
   "source": [
    "[llm]"
   ]
  },
  {
   "cell_type": "code",
   "execution_count": 84,
   "metadata": {},
   "outputs": [],
   "source": [
    "llm = AzureChatOpenAI(\n",
    "    deployment_name=\"gpt-4\",\n",
    "    api_key=azure_openai_key,\n",
    "    azure_endpoint=azure_openai_endpoint,\n",
    "    api_version=\"2023-09-01-preview\",\n",
    "    # temperature=0\n",
    ")"
   ]
  },
  {
   "cell_type": "code",
   "execution_count": 85,
   "metadata": {},
   "outputs": [],
   "source": [
    "retriever = vector_store.as_retriever(search_key=\"hybrid\", search_kwargs={\"k\": 5})\n",
    "\n",
    "\n",
    "prompt = hub.pull(\"rlm/rag-prompt\")\n",
    "def format_docs(docs):\n",
    "    return \"\\n\\n\".join(doc.page_content for doc in docs)\n",
    "\n",
    "rag_chain = (\n",
    "{\"context\": retriever | format_docs, \"question\": RunnablePassthrough()}\n",
    "| prompt\n",
    "| llm\n",
    "| StrOutputParser()\n",
    ")"
   ]
  },
  {
   "cell_type": "code",
   "execution_count": 86,
   "metadata": {},
   "outputs": [
    {
     "data": {
      "text/plain": [
       "[Document(page_content=\"How to create and circulate board paper\\n\\n1) Based on the approved agenda(Usually approved agendas are performance, operation, profit + anything we want to add this time. ), Secretary emails NEC. (assume NEC is same as board members for now). If you don't have it, ask. Normally fixed ones are: performance, operation, profit\\n\\n2) NEC writes paper.\\n\\n3) Secretary circulates and distributes the paper to board members.\", metadata={'source': '..\\\\data\\\\documents_board\\\\Template.txt'}),\n",
       " Document(page_content=\"How to create and circulate board paper\\n\\n1) Based on the approved agenda(Usually approved agendas are performance, operation, profit + anything we want to add this time. ), Secretary emails NEC. (assume NEC is same as board members for now). If you don't have it, ask. Normally fixed ones are: performance, operation, profit\\n\\n2) NEC writes paper.\\n\\n3) Secretary circulates and distributes the paper to board members.\", metadata={'source': '..\\\\data\\\\documents_board\\\\Template.txt'}),\n",
       " Document(page_content=\"How to create and circulate board paper\\n\\n1) Based on the approved agenda(Usually approved agendas are performance, operation, profit + anything we want to add this time. ), Secretary emails NEC. (assume NEC is same as board members for now). If you don't have it, ask. Normally fixed ones are: performance, operation, profit\\n\\n2) NEC writes paper.\\n\\n3) Secretary circulates and distributes the paper to board members.\", metadata={'source': '..\\\\data\\\\documents_board\\\\Template.txt'}),\n",
       " Document(page_content=\"How to create and circulate board paper\\n\\n1) Based on the approved agenda(Usually approved agendas are performance, operation, profit + anything we want to add this time. ), Secretary emails NEC. (assume NEC is same as board members for now). If you don't have it, ask. Normally fixed ones are: performance, operation, profit\\n\\n2) NEC writes paper.\\n\\n3) Secretary circulates and distributes the paper to board members.\", metadata={'source': '..\\\\data\\\\documents_board\\\\Template.txt'}),\n",
       " Document(page_content=\"How to create and circulate board paper\\n\\n1) Based on the approved agenda(Usually approved agendas are performance, operation, profit + anything we want to add this time. ), Secretary emails NEC. (assume NEC is same as board members for now). If you don't have it, ask. Normally fixed ones are: performance, operation, profit\\n\\n2) NEC writes paper.\\n\\n3) Secretary circulates and distributes the paper to board members.\", metadata={'source': '..\\\\data\\\\documents_board\\\\Template.txt'})]"
      ]
     },
     "execution_count": 86,
     "metadata": {},
     "output_type": "execute_result"
    }
   ],
   "source": [
    "docs = retriever.get_relevant_documents(query)\n",
    "docs"
   ]
  },
  {
   "cell_type": "code",
   "execution_count": 87,
   "metadata": {},
   "outputs": [
    {
     "data": {
      "text/plain": [
       "'The creation of a board paper should involve the Secretary and the NEC, which can be assumed to be the same as the board members. The Secretary is responsible for initiating the process based on the approved agenda, while the NEC is tasked with writing the paper.'"
      ]
     },
     "execution_count": 87,
     "metadata": {},
     "output_type": "execute_result"
    }
   ],
   "source": [
    "res = rag_chain.invoke(query)\n",
    "res"
   ]
  },
  {
   "cell_type": "code",
   "execution_count": 88,
   "metadata": {},
   "outputs": [
    {
     "name": "stdout",
     "output_type": "stream",
     "text": [
      "The creation of a board paper should involve the Secretary and the NEC, which can be assumed to be the same as the board members. The\n",
      "Secretary is responsible for initiating the process based on the approved agenda, while the NEC is tasked with writing the paper.\n"
     ]
    }
   ],
   "source": [
    "import textwrap\n",
    "print(\"\\n\".join(textwrap.wrap(res, width = 140)))"
   ]
  }
 ],
 "metadata": {
  "kernelspec": {
   "display_name": "Python 3",
   "language": "python",
   "name": "python3"
  },
  "language_info": {
   "codemirror_mode": {
    "name": "ipython",
    "version": 3
   },
   "file_extension": ".py",
   "mimetype": "text/x-python",
   "name": "python",
   "nbconvert_exporter": "python",
   "pygments_lexer": "ipython3",
   "version": "3.11.1"
  }
 },
 "nbformat": 4,
 "nbformat_minor": 2
}
